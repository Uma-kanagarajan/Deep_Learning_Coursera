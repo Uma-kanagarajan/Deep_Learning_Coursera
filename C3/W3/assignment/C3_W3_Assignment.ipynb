{
  "nbformat": 4,
  "nbformat_minor": 0,
  "metadata": {
    "accelerator": "GPU",
    "colab": {
      "name": "C3_W3_Assignment.ipynb",
      "provenance": [],
      "toc_visible": true,
      "include_colab_link": true
    },
    "kernelspec": {
      "display_name": "Python 3",
      "language": "python",
      "name": "python3"
    },
    "language_info": {
      "codemirror_mode": {
        "name": "ipython",
        "version": 3
      },
      "file_extension": ".py",
      "mimetype": "text/x-python",
      "name": "python",
      "nbconvert_exporter": "python",
      "pygments_lexer": "ipython3",
      "version": "3.8.5"
    }
  },
  "cells": [
    {
      "cell_type": "markdown",
      "metadata": {
        "id": "view-in-github",
        "colab_type": "text"
      },
      "source": [
        "<a href=\"https://colab.research.google.com/github/Uma-kanagarajan/Deep_Learning_Coursera/blob/main/C3/W3/assignment/C3_W3_Assignment.ipynb\" target=\"_parent\"><img src=\"https://colab.research.google.com/assets/colab-badge.svg\" alt=\"Open In Colab\"/></a>"
      ]
    },
    {
      "cell_type": "code",
      "metadata": {
        "id": "zX4Kg8DUTKWO"
      },
      "source": [
        "#@title Licensed under the Apache License, Version 2.0 (the \"License\");\n",
        "# you may not use this file except in compliance with the License.\n",
        "# You may obtain a copy of the License at\n",
        "#\n",
        "# https://www.apache.org/licenses/LICENSE-2.0\n",
        "#\n",
        "# Unless required by applicable law or agreed to in writing, software\n",
        "# distributed under the License is distributed on an \"AS IS\" BASIS,\n",
        "# WITHOUT WARRANTIES OR CONDITIONS OF ANY KIND, either express or implied.\n",
        "# See the License for the specific language governing permissions and\n",
        "# limitations under the License."
      ],
      "execution_count": null,
      "outputs": []
    },
    {
      "cell_type": "markdown",
      "metadata": {
        "id": "gnU1TV9kV5f9"
      },
      "source": [
        "**Note:** This notebook can run using TensorFlow 2.5.0"
      ]
    },
    {
      "cell_type": "code",
      "metadata": {
        "id": "qTZDRvo5V5f9"
      },
      "source": [
        "#!pip install tensorflow==2.5.0"
      ],
      "execution_count": null,
      "outputs": []
    },
    {
      "cell_type": "code",
      "metadata": {
        "id": "hmA6EzkQJ5jt"
      },
      "source": [
        "import json\n",
        "import tensorflow as tf\n",
        "import csv\n",
        "import random\n",
        "import numpy as np\n",
        "\n",
        "from tensorflow.keras.preprocessing.text import Tokenizer\n",
        "from tensorflow.keras.preprocessing.sequence import pad_sequences\n",
        "from tensorflow.keras.utils import to_categorical\n",
        "from tensorflow.keras import regularizers\n",
        "\n",
        "\n",
        "embedding_dim = 100\n",
        "max_length = 16\n",
        "trunc_type='post'\n",
        "padding_type='post'\n",
        "oov_tok = \"<OOV>\"\n",
        "training_size= 160000 #Your dataset size here. Experiment using smaller values (i.e. 16000), but don't forget to train on at least 160000 to see the best effects\n",
        "test_portion=.1\n",
        "\n",
        "corpus = []\n"
      ],
      "execution_count": 9,
      "outputs": []
    },
    {
      "cell_type": "code",
      "metadata": {
        "id": "bM0l_dORKqE0",
        "outputId": "0fafe150-1f37-444f-bc99-a7451a511be3",
        "colab": {
          "base_uri": "https://localhost:8080/"
        }
      },
      "source": [
        "# Note that I cleaned the Stanford dataset to remove LATIN1 encoding to make it easier for Python CSV reader\n",
        "# You can do that yourself with:\n",
        "# iconv -f LATIN1 -t UTF8 training.1600000.processed.noemoticon.csv -o training_cleaned.csv\n",
        "\n",
        "# training_cleaned.csv\n",
        "!gdown --id 1wd8KaeCSHxt-nEpMeuHFSNWrDp8joUXJ\n",
        "\n",
        "num_sentences = 0\n",
        "\n",
        "with open(\"./training_cleaned.csv\") as csvfile:\n",
        "    reader = csv.reader(csvfile, delimiter=',')\n",
        "    for row in reader:\n",
        "        list_item=[]\n",
        "        \n",
        "        list_item.append(row[5])\n",
        "        this_label = row[0]\n",
        "        if this_label == '0':\n",
        "          list_item.append(0)\n",
        "        else:\n",
        "          list_item.append(1)\n",
        "\n",
        "        \n",
        "        ### START CODE HERE\n",
        "        #Create list items where the first item is the text, found in row[5], and the second is the label. Note that the label is a '0' or a '4' in the text. When it's the former, make\n",
        "        # your label to be 0, otherwise 1. Keep a count of the number of sentences in num_sentences\n",
        "        ### END CODE HERE\n",
        "        \n",
        "        num_sentences = num_sentences + 1\n",
        "        corpus.append(list_item)\n"
      ],
      "execution_count": 10,
      "outputs": [
        {
          "output_type": "stream",
          "name": "stdout",
          "text": [
            "Downloading...\n",
            "From: https://drive.google.com/uc?id=1wd8KaeCSHxt-nEpMeuHFSNWrDp8joUXJ\n",
            "To: /content/training_cleaned.csv\n",
            "100% 239M/239M [00:03<00:00, 72.7MB/s]\n"
          ]
        }
      ]
    },
    {
      "cell_type": "code",
      "metadata": {
        "id": "3kxblBUjEUX-",
        "outputId": "85a24442-206b-4f7a-a063-884f9ea5f2ed",
        "colab": {
          "base_uri": "https://localhost:8080/"
        }
      },
      "source": [
        "print(num_sentences)\n",
        "print(len(corpus))\n",
        "print(corpus[1])\n",
        "\n",
        "# Expected Output:\n",
        "# 1600000\n",
        "# 1600000\n",
        "# [\"is upset that he can't update his Facebook by texting it... and might cry as a result  School today also. Blah!\", 0]"
      ],
      "execution_count": 11,
      "outputs": [
        {
          "output_type": "stream",
          "name": "stdout",
          "text": [
            "1600000\n",
            "1600000\n",
            "[\"is upset that he can't update his Facebook by texting it... and might cry as a result  School today also. Blah!\", 0]\n"
          ]
        }
      ]
    },
    {
      "cell_type": "code",
      "metadata": {
        "id": "ohOGz24lsNAD"
      },
      "source": [
        "sentences=[]\n",
        "labels=[]\n",
        "random.shuffle(corpus)\n",
        "for x in range(training_size):\n",
        "    sentences.append(corpus[x][0])\n",
        "    labels.append(corpus[x][1])\n",
        "\n",
        "\n",
        "tokenizer = Tokenizer()\n",
        "tokenizer.fit_on_texts(sentences)\n",
        "\n",
        "word_index = tokenizer.word_index\n",
        "vocab_size=len(word_index)\n",
        "\n",
        "sequences = tokenizer.texts_to_sequences(sentences)\n",
        "padded = pad_sequences(sequences, maxlen=max_length, padding=padding_type, truncating=trunc_type)\n",
        "\n",
        "split = int(test_portion * training_size)\n",
        "\n",
        "test_sequences = padded[0:split]\n",
        "training_sequences = padded[split:training_size]\n",
        "test_labels = labels[0:split]\n",
        "training_labels = labels[split:training_size]"
      ],
      "execution_count": 12,
      "outputs": []
    },
    {
      "cell_type": "code",
      "metadata": {
        "id": "gIrtRem1En3N",
        "outputId": "1599c9a2-4961-4d58-f8d5-7d637c892553",
        "colab": {
          "base_uri": "https://localhost:8080/"
        }
      },
      "source": [
        "print(vocab_size)\n",
        "print(word_index['i'])\n",
        "# Expected Output\n",
        "# 138856\n",
        "# 1"
      ],
      "execution_count": 13,
      "outputs": [
        {
          "output_type": "stream",
          "name": "stdout",
          "text": [
            "138335\n",
            "1\n"
          ]
        }
      ]
    },
    {
      "cell_type": "code",
      "metadata": {
        "id": "C1zdgJkusRh0",
        "outputId": "a46a97da-0c03-4d04-d957-15d70cb410a7",
        "colab": {
          "base_uri": "https://localhost:8080/"
        }
      },
      "source": [
        "# Note this is the 100 dimension version of GloVe from Stanford\n",
        "\n",
        "# glove.6B.100d.txt\n",
        "!gdown --id 1W5vZy2etitAblLdFn8_DxnsQKzfFJ98g\n",
        "\n",
        "embeddings_index = {};\n",
        "with open('./glove.6B.100d.txt') as f:\n",
        "    for line in f:\n",
        "        values = line.split();\n",
        "        word = values[0];\n",
        "        coefs = np.asarray(values[1:], dtype='float32');\n",
        "        embeddings_index[word] = coefs;\n",
        "\n",
        "embeddings_matrix = np.zeros((vocab_size+1, embedding_dim));\n",
        "for word, i in word_index.items():\n",
        "    embedding_vector = embeddings_index.get(word);\n",
        "    if embedding_vector is not None:\n",
        "        embeddings_matrix[i] = embedding_vector;"
      ],
      "execution_count": 14,
      "outputs": [
        {
          "output_type": "stream",
          "name": "stdout",
          "text": [
            "Downloading...\n",
            "From: https://drive.google.com/uc?id=1W5vZy2etitAblLdFn8_DxnsQKzfFJ98g\n",
            "To: /content/glove.6B.100d.txt\n",
            "100% 347M/347M [00:01<00:00, 175MB/s]\n"
          ]
        }
      ]
    },
    {
      "cell_type": "code",
      "metadata": {
        "id": "71NLk_lpFLNt",
        "outputId": "b25e9df8-6fe4-4aef-d158-80c3da542b22",
        "colab": {
          "base_uri": "https://localhost:8080/"
        }
      },
      "source": [
        "print(len(embeddings_matrix))\n",
        "# Expected Output\n",
        "# 138857"
      ],
      "execution_count": 15,
      "outputs": [
        {
          "output_type": "stream",
          "name": "stdout",
          "text": [
            "138336\n"
          ]
        }
      ]
    },
    {
      "cell_type": "code",
      "metadata": {
        "id": "iKKvbuEBOGFz",
        "outputId": "bf020932-577a-49e9-8c9c-43bbc708a0ab",
        "colab": {
          "base_uri": "https://localhost:8080/"
        }
      },
      "source": [
        "model = tf.keras.Sequential([\n",
        "    tf.keras.layers.Embedding(vocab_size+1, embedding_dim, input_length=max_length, weights=[embeddings_matrix], trainable=False),\n",
        "    tf.keras.layers.Conv1D(64, 5, activation='relu'),\n",
        "    tf.keras.layers.MaxPooling1D(pool_size=4),\n",
        "    tf.keras.layers.LSTM(64),\n",
        "    tf.keras.layers.Dense(1, activation='sigmoid')\n",
        "    # YOUR CODE HERE - experiment with combining different types, such as convolutions and LSTMs\n",
        "])\n",
        "model.compile(loss='binary_crossentropy',\n",
        "              optimizer='adam',\n",
        "              metrics=['accuracy'])\n",
        "model.summary()\n",
        "\n",
        "training_padded = np.array(training_sequences)\n",
        "training_labels = np.array(training_labels)\n",
        "testing_padded = np.array(test_sequences)\n",
        "testing_labels = np.array(test_labels)\n",
        "\n",
        "\n",
        "num_epochs = 50\n",
        "history = model.fit(training_padded, training_labels, epochs=num_epochs, validation_data=(testing_padded, testing_labels), verbose=2)\n",
        "\n",
        "print(\"Training Complete\")\n"
      ],
      "execution_count": 20,
      "outputs": [
        {
          "output_type": "stream",
          "name": "stdout",
          "text": [
            "Model: \"sequential_3\"\n",
            "_________________________________________________________________\n",
            "Layer (type)                 Output Shape              Param #   \n",
            "=================================================================\n",
            "embedding_3 (Embedding)      (None, 16, 100)           13833600  \n",
            "_________________________________________________________________\n",
            "conv1d_3 (Conv1D)            (None, 12, 64)            32064     \n",
            "_________________________________________________________________\n",
            "max_pooling1d_3 (MaxPooling1 (None, 3, 64)             0         \n",
            "_________________________________________________________________\n",
            "lstm_3 (LSTM)                (None, 64)                33024     \n",
            "_________________________________________________________________\n",
            "dense_3 (Dense)              (None, 1)                 65        \n",
            "=================================================================\n",
            "Total params: 13,898,753\n",
            "Trainable params: 65,153\n",
            "Non-trainable params: 13,833,600\n",
            "_________________________________________________________________\n",
            "Epoch 1/50\n",
            "4500/4500 - 20s - loss: 0.5472 - accuracy: 0.7167 - val_loss: 0.5463 - val_accuracy: 0.7139\n",
            "Epoch 2/50\n",
            "4500/4500 - 17s - loss: 0.4984 - accuracy: 0.7533 - val_loss: 0.5027 - val_accuracy: 0.7495\n",
            "Epoch 3/50\n",
            "4500/4500 - 17s - loss: 0.4738 - accuracy: 0.7691 - val_loss: 0.5093 - val_accuracy: 0.7484\n",
            "Epoch 4/50\n",
            "4500/4500 - 17s - loss: 0.4554 - accuracy: 0.7815 - val_loss: 0.5039 - val_accuracy: 0.7538\n",
            "Epoch 5/50\n",
            "4500/4500 - 17s - loss: 0.4379 - accuracy: 0.7922 - val_loss: 0.5131 - val_accuracy: 0.7504\n",
            "Epoch 6/50\n",
            "4500/4500 - 17s - loss: 0.4217 - accuracy: 0.8016 - val_loss: 0.5173 - val_accuracy: 0.7444\n",
            "Epoch 7/50\n",
            "4500/4500 - 17s - loss: 0.4061 - accuracy: 0.8110 - val_loss: 0.5293 - val_accuracy: 0.7501\n",
            "Epoch 8/50\n",
            "4500/4500 - 17s - loss: 0.3911 - accuracy: 0.8183 - val_loss: 0.5415 - val_accuracy: 0.7452\n",
            "Epoch 9/50\n",
            "4500/4500 - 17s - loss: 0.3760 - accuracy: 0.8277 - val_loss: 0.5617 - val_accuracy: 0.7405\n",
            "Epoch 10/50\n",
            "4500/4500 - 17s - loss: 0.3616 - accuracy: 0.8347 - val_loss: 0.5756 - val_accuracy: 0.7414\n",
            "Epoch 11/50\n",
            "4500/4500 - 17s - loss: 0.3474 - accuracy: 0.8421 - val_loss: 0.5901 - val_accuracy: 0.7366\n",
            "Epoch 12/50\n",
            "4500/4500 - 17s - loss: 0.3326 - accuracy: 0.8504 - val_loss: 0.6374 - val_accuracy: 0.7387\n",
            "Epoch 13/50\n",
            "4500/4500 - 17s - loss: 0.3196 - accuracy: 0.8565 - val_loss: 0.6301 - val_accuracy: 0.7322\n",
            "Epoch 14/50\n",
            "4500/4500 - 17s - loss: 0.3069 - accuracy: 0.8626 - val_loss: 0.6725 - val_accuracy: 0.7268\n",
            "Epoch 15/50\n",
            "4500/4500 - 17s - loss: 0.2952 - accuracy: 0.8689 - val_loss: 0.6903 - val_accuracy: 0.7321\n",
            "Epoch 16/50\n",
            "4500/4500 - 17s - loss: 0.2838 - accuracy: 0.8742 - val_loss: 0.7193 - val_accuracy: 0.7303\n",
            "Epoch 17/50\n",
            "4500/4500 - 17s - loss: 0.2712 - accuracy: 0.8811 - val_loss: 0.7697 - val_accuracy: 0.7279\n",
            "Epoch 18/50\n",
            "4500/4500 - 17s - loss: 0.2625 - accuracy: 0.8848 - val_loss: 0.7808 - val_accuracy: 0.7260\n",
            "Epoch 19/50\n",
            "4500/4500 - 17s - loss: 0.2539 - accuracy: 0.8899 - val_loss: 0.8117 - val_accuracy: 0.7241\n",
            "Epoch 20/50\n",
            "4500/4500 - 17s - loss: 0.2451 - accuracy: 0.8935 - val_loss: 0.8355 - val_accuracy: 0.7242\n",
            "Epoch 21/50\n",
            "4500/4500 - 17s - loss: 0.2363 - accuracy: 0.8976 - val_loss: 0.8587 - val_accuracy: 0.7165\n",
            "Epoch 22/50\n",
            "4500/4500 - 17s - loss: 0.2285 - accuracy: 0.9012 - val_loss: 0.8752 - val_accuracy: 0.7227\n",
            "Epoch 23/50\n",
            "4500/4500 - 17s - loss: 0.2221 - accuracy: 0.9047 - val_loss: 0.9149 - val_accuracy: 0.7197\n",
            "Epoch 24/50\n",
            "4500/4500 - 17s - loss: 0.2156 - accuracy: 0.9071 - val_loss: 0.9156 - val_accuracy: 0.7171\n",
            "Epoch 25/50\n",
            "4500/4500 - 17s - loss: 0.2104 - accuracy: 0.9093 - val_loss: 0.9486 - val_accuracy: 0.7161\n",
            "Epoch 26/50\n",
            "4500/4500 - 17s - loss: 0.2040 - accuracy: 0.9135 - val_loss: 1.0061 - val_accuracy: 0.7169\n",
            "Epoch 27/50\n",
            "4500/4500 - 17s - loss: 0.1981 - accuracy: 0.9158 - val_loss: 1.0029 - val_accuracy: 0.7138\n",
            "Epoch 28/50\n",
            "4500/4500 - 17s - loss: 0.1957 - accuracy: 0.9173 - val_loss: 1.0397 - val_accuracy: 0.7126\n",
            "Epoch 29/50\n",
            "4500/4500 - 17s - loss: 0.1899 - accuracy: 0.9194 - val_loss: 1.0298 - val_accuracy: 0.7130\n",
            "Epoch 30/50\n",
            "4500/4500 - 17s - loss: 0.1863 - accuracy: 0.9215 - val_loss: 1.0647 - val_accuracy: 0.7076\n",
            "Epoch 31/50\n",
            "4500/4500 - 17s - loss: 0.1813 - accuracy: 0.9236 - val_loss: 1.0694 - val_accuracy: 0.7143\n",
            "Epoch 32/50\n",
            "4500/4500 - 17s - loss: 0.1769 - accuracy: 0.9249 - val_loss: 1.1355 - val_accuracy: 0.7076\n",
            "Epoch 33/50\n",
            "4500/4500 - 17s - loss: 0.1763 - accuracy: 0.9264 - val_loss: 1.1045 - val_accuracy: 0.7088\n",
            "Epoch 34/50\n",
            "4500/4500 - 17s - loss: 0.1724 - accuracy: 0.9279 - val_loss: 1.1553 - val_accuracy: 0.7121\n",
            "Epoch 35/50\n",
            "4500/4500 - 17s - loss: 0.1682 - accuracy: 0.9307 - val_loss: 1.1903 - val_accuracy: 0.7122\n",
            "Epoch 36/50\n",
            "4500/4500 - 17s - loss: 0.1663 - accuracy: 0.9311 - val_loss: 1.1764 - val_accuracy: 0.7066\n",
            "Epoch 37/50\n",
            "4500/4500 - 17s - loss: 0.1651 - accuracy: 0.9318 - val_loss: 1.1700 - val_accuracy: 0.7085\n",
            "Epoch 38/50\n",
            "4500/4500 - 17s - loss: 0.1615 - accuracy: 0.9330 - val_loss: 1.1741 - val_accuracy: 0.7064\n",
            "Epoch 39/50\n",
            "4500/4500 - 17s - loss: 0.1615 - accuracy: 0.9328 - val_loss: 1.2234 - val_accuracy: 0.7067\n",
            "Epoch 40/50\n",
            "4500/4500 - 17s - loss: 0.1590 - accuracy: 0.9341 - val_loss: 1.2426 - val_accuracy: 0.7069\n",
            "Epoch 41/50\n",
            "4500/4500 - 17s - loss: 0.1568 - accuracy: 0.9356 - val_loss: 1.2315 - val_accuracy: 0.7076\n",
            "Epoch 42/50\n",
            "4500/4500 - 17s - loss: 0.1538 - accuracy: 0.9359 - val_loss: 1.2443 - val_accuracy: 0.7031\n",
            "Epoch 43/50\n",
            "4500/4500 - 17s - loss: 0.1525 - accuracy: 0.9368 - val_loss: 1.2419 - val_accuracy: 0.7090\n",
            "Epoch 44/50\n",
            "4500/4500 - 17s - loss: 0.1521 - accuracy: 0.9379 - val_loss: 1.2996 - val_accuracy: 0.7094\n",
            "Epoch 45/50\n",
            "4500/4500 - 17s - loss: 0.1504 - accuracy: 0.9377 - val_loss: 1.2828 - val_accuracy: 0.7100\n",
            "Epoch 46/50\n",
            "4500/4500 - 17s - loss: 0.1487 - accuracy: 0.9388 - val_loss: 1.2899 - val_accuracy: 0.7084\n",
            "Epoch 47/50\n",
            "4500/4500 - 17s - loss: 0.1459 - accuracy: 0.9403 - val_loss: 1.3062 - val_accuracy: 0.7062\n",
            "Epoch 48/50\n",
            "4500/4500 - 17s - loss: 0.1454 - accuracy: 0.9405 - val_loss: 1.2872 - val_accuracy: 0.7089\n",
            "Epoch 49/50\n",
            "4500/4500 - 17s - loss: 0.1467 - accuracy: 0.9396 - val_loss: 1.3415 - val_accuracy: 0.7053\n",
            "Epoch 50/50\n",
            "4500/4500 - 17s - loss: 0.1421 - accuracy: 0.9420 - val_loss: 1.3408 - val_accuracy: 0.7089\n",
            "Training Complete\n"
          ]
        }
      ]
    },
    {
      "cell_type": "code",
      "metadata": {
        "id": "5xpPFH1tSZhR"
      },
      "source": [
        ""
      ],
      "execution_count": 18,
      "outputs": []
    },
    {
      "cell_type": "code",
      "metadata": {
        "id": "qxju4ItJKO8F",
        "outputId": "8fb6bd5e-21b4-4189-a422-4d7581307b90",
        "colab": {
          "base_uri": "https://localhost:8080/",
          "height": 607
        }
      },
      "source": [
        "import matplotlib.image  as mpimg\n",
        "import matplotlib.pyplot as plt\n",
        "\n",
        "#-----------------------------------------------------------\n",
        "# Retrieve a list of list results on training and test data\n",
        "# sets for each training epoch\n",
        "#-----------------------------------------------------------\n",
        "acc=history.history['accuracy']\n",
        "val_acc=history.history['val_accuracy']\n",
        "loss=history.history['loss']\n",
        "val_loss=history.history['val_loss']\n",
        "\n",
        "epochs=range(len(acc)) # Get number of epochs\n",
        "\n",
        "#------------------------------------------------\n",
        "# Plot training and validation accuracy per epoch\n",
        "#------------------------------------------------\n",
        "plt.plot(epochs, acc, 'r')\n",
        "plt.plot(epochs, val_acc, 'b')\n",
        "plt.title('Training and validation accuracy')\n",
        "plt.xlabel(\"Epochs\")\n",
        "plt.ylabel(\"Accuracy\")\n",
        "plt.legend([\"Accuracy\", \"Validation Accuracy\"])\n",
        "\n",
        "plt.figure()\n",
        "\n",
        "#------------------------------------------------\n",
        "# Plot training and validation loss per epoch\n",
        "#------------------------------------------------\n",
        "plt.plot(epochs, loss, 'r')\n",
        "plt.plot(epochs, val_loss, 'b')\n",
        "plt.title('Training and validation loss')\n",
        "plt.xlabel(\"Epochs\")\n",
        "plt.ylabel(\"Loss\")\n",
        "plt.legend([\"Loss\", \"Validation Loss\"])\n",
        "\n",
        "plt.figure()\n",
        "\n",
        "\n",
        "# Expected Output\n",
        "# A chart where the validation loss does not increase sharply!"
      ],
      "execution_count": 21,
      "outputs": [
        {
          "output_type": "execute_result",
          "data": {
            "text/plain": [
              "<Figure size 432x288 with 0 Axes>"
            ]
          },
          "metadata": {},
          "execution_count": 21
        },
        {
          "output_type": "display_data",
          "data": {
            "image/png": "[encoded data removed]",
            "text/plain": [
              "<Figure size 432x288 with 1 Axes>"
            ]
          },
          "metadata": {
            "needs_background": "light"
          }
        },
        {
          "output_type": "display_data",
          "data": {
            "image/png": "[encoded data removed]",
            "text/plain": [
              "<Figure size 432x288 with 1 Axes>"
            ]
          },
          "metadata": {
            "needs_background": "light"
          }
        },
        {
          "output_type": "display_data",
          "data": {
            "text/plain": [
              "<Figure size 432x288 with 0 Axes>"
            ]
          },
          "metadata": {}
        }
      ]
    },
    {
      "cell_type": "code",
      "metadata": {
        "id": "Ccs2w1h_b-DX"
      },
      "source": [
        ""
      ],
      "execution_count": 21,
      "outputs": []
    }
  ]
}