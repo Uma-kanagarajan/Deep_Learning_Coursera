{
  "nbformat": 4,
  "nbformat_minor": 0,
  "metadata": {
    "accelerator": "GPU",
    "colab": {
      "name": "C3_W4_Assignment.ipynb",
      "provenance": [],
      "toc_visible": true,
      "include_colab_link": true
    },
    "kernelspec": {
      "display_name": "Python 3",
      "language": "python",
      "name": "python3"
    },
    "language_info": {
      "codemirror_mode": {
        "name": "ipython",
        "version": 3
      },
      "file_extension": ".py",
      "mimetype": "text/x-python",
      "name": "python",
      "nbconvert_exporter": "python",
      "pygments_lexer": "ipython3",
      "version": "3.8.5"
    }
  },
  "cells": [
    {
      "cell_type": "markdown",
      "metadata": {
        "id": "view-in-github",
        "colab_type": "text"
      },
      "source": [
        "<a href=\"https://colab.research.google.com/github/Uma-kanagarajan/Deep_Learning_Coursera/blob/main/C3/W4/assignment/C3_W4_Assignment.ipynb\" target=\"_parent\"><img src=\"https://colab.research.google.com/assets/colab-badge.svg\" alt=\"Open In Colab\"/></a>"
      ]
    },
    {
      "cell_type": "code",
      "metadata": {
        "id": "T2XpcPvbXalN"
      },
      "source": [
        "#@title Licensed under the Apache License, Version 2.0 (the \"License\");\n",
        "# you may not use this file except in compliance with the License.\n",
        "# You may obtain a copy of the License at\n",
        "#\n",
        "# https://www.apache.org/licenses/LICENSE-2.0\n",
        "#\n",
        "# Unless required by applicable law or agreed to in writing, software\n",
        "# distributed under the License is distributed on an \"AS IS\" BASIS,\n",
        "# WITHOUT WARRANTIES OR CONDITIONS OF ANY KIND, either express or implied.\n",
        "# See the License for the specific language governing permissions and\n",
        "# limitations under the License."
      ],
      "execution_count": null,
      "outputs": []
    },
    {
      "cell_type": "markdown",
      "metadata": {
        "id": "eK88h3Y5XalO"
      },
      "source": [
        "**Note:** This notebook can run using TensorFlow 2.5.0"
      ]
    },
    {
      "cell_type": "code",
      "metadata": {
        "id": "zX4Kg8DUTKWO"
      },
      "source": [
        "#!pip install tensorflow==2.5.0"
      ],
      "execution_count": null,
      "outputs": []
    },
    {
      "cell_type": "code",
      "metadata": {
        "id": "BOwsuGQQY9OL"
      },
      "source": [
        "from tensorflow.keras.preprocessing.sequence import pad_sequences\n",
        "from tensorflow.keras.layers import Embedding, LSTM, Dense, Dropout, Bidirectional\n",
        "from tensorflow.keras.preprocessing.text import Tokenizer\n",
        "from tensorflow.keras.models import Sequential\n",
        "from tensorflow.keras.optimizers import Adam\n",
        "### YOUR CODE HERE\n",
        "# Figure out how to import regularizers\n",
        "from tensorflow.keras import regularizers\n",
        "###\n",
        "import tensorflow.keras.utils as ku \n",
        "import numpy as np "
      ],
      "execution_count": 4,
      "outputs": []
    },
    {
      "cell_type": "code",
      "metadata": {
        "id": "PRnDnCW-Z7qv",
        "colab": {
          "base_uri": "https://localhost:8080/"
        },
        "outputId": "4df543ec-e939-4679-8300-6d8568a8dea9"
      },
      "source": [
        "tokenizer = Tokenizer()\n",
        "\n",
        "# sonnets.txt\n",
        "!gdown --id 108jAePKK4R3BVYBbYJZ32JWUwxeMg20K\n",
        "\n",
        "data = open('./sonnets.txt').read()\n",
        "\n",
        "corpus = data.lower().split(\"\\n\")\n",
        "\n",
        "\n",
        "tokenizer.fit_on_texts(corpus)\n",
        "total_words = len(tokenizer.word_index) + 1\n",
        "\n",
        "# create input sequences using list of tokens\n",
        "input_sequences = []\n",
        "for line in corpus:\n",
        "\ttoken_list = tokenizer.texts_to_sequences([line])[0]\n",
        "\tfor i in range(1, len(token_list)):\n",
        "\t\tn_gram_sequence = token_list[:i+1]\n",
        "\t\tinput_sequences.append(n_gram_sequence)\n",
        "\n",
        "\n",
        "# pad sequences \n",
        "max_sequence_len = max([len(x) for x in input_sequences])\n",
        "input_sequences = np.array(pad_sequences(input_sequences, maxlen=max_sequence_len, padding='pre'))\n",
        "\n",
        "# create predictors and label\n",
        "predictors, label = input_sequences[:,:-1],input_sequences[:,-1]\n",
        "\n",
        "label = ku.to_categorical(label, num_classes=total_words)"
      ],
      "execution_count": 2,
      "outputs": [
        {
          "output_type": "stream",
          "name": "stdout",
          "text": [
            "Downloading...\n",
            "From: https://drive.google.com/uc?id=108jAePKK4R3BVYBbYJZ32JWUwxeMg20K\n",
            "To: /content/sonnets.txt\n",
            "\r  0% 0.00/93.6k [00:00<?, ?B/s]\r100% 93.6k/93.6k [00:00<00:00, 34.4MB/s]\n"
          ]
        }
      ]
    },
    {
      "cell_type": "code",
      "metadata": {
        "id": "w9vH8Y59ajYL",
        "colab": {
          "base_uri": "https://localhost:8080/"
        },
        "outputId": "5eb54cbb-ab91-46b5-9c1d-0cc4aa81186a"
      },
      "source": [
        "### START CODE HERE\n",
        "model = Sequential()\n",
        "model.add(Embedding(total_words, 100, input_length = max_sequence_len -1 ))\n",
        "model.add(Bidirectional(LSTM(150, return_sequences=True)))\n",
        "model.add(Dropout(0.2) )# A dropout layer)\n",
        "model.add(Bidirectional(LSTM(100))) # Another LSTM Layer)\n",
        "model.add(Dense(total_words/2, activation='relu', kernel_regularizer=regularizers.l2(0.01)))# A Dense Layer including regularizers)\n",
        "model.add(Dense(total_words, activation='softmax')) # A Dense Layer)\n",
        "# Pick an optimizer\n",
        "model.compile(loss='categorical_crossentropy',\n",
        "              optimizer='adam',\n",
        "              metrics=['accuracy']) # Pick a loss function and an optimizer)\n",
        "### END CODE HERE\n",
        "    \n",
        "print(model.summary())"
      ],
      "execution_count": 5,
      "outputs": [
        {
          "output_type": "stream",
          "name": "stdout",
          "text": [
            "Model: \"sequential_1\"\n",
            "_________________________________________________________________\n",
            "Layer (type)                 Output Shape              Param #   \n",
            "=================================================================\n",
            "embedding_1 (Embedding)      (None, 10, 100)           321100    \n",
            "_________________________________________________________________\n",
            "bidirectional_2 (Bidirection (None, 10, 300)           301200    \n",
            "_________________________________________________________________\n",
            "dropout_1 (Dropout)          (None, 10, 300)           0         \n",
            "_________________________________________________________________\n",
            "bidirectional_3 (Bidirection (None, 200)               320800    \n",
            "_________________________________________________________________\n",
            "dense (Dense)                (None, 1605)              322605    \n",
            "_________________________________________________________________\n",
            "dense_1 (Dense)              (None, 3211)              5156866   \n",
            "=================================================================\n",
            "Total params: 6,422,571\n",
            "Trainable params: 6,422,571\n",
            "Non-trainable params: 0\n",
            "_________________________________________________________________\n",
            "None\n"
          ]
        }
      ]
    },
    {
      "cell_type": "code",
      "metadata": {
        "id": "AIg2f1HBxqof",
        "colab": {
          "base_uri": "https://localhost:8080/"
        },
        "outputId": "c7f74fc0-bc01-4626-8be0-7509dfae4e7f"
      },
      "source": [
        " history = model.fit(predictors, label, epochs=100, verbose=1)"
      ],
      "execution_count": 6,
      "outputs": [
        {
          "output_type": "stream",
          "name": "stdout",
          "text": [
            "Epoch 1/100\n",
            "484/484 [==============================] - 25s 30ms/step - loss: 6.9721 - accuracy: 0.0221\n",
            "Epoch 2/100\n",
            "484/484 [==============================] - 14s 29ms/step - loss: 6.5123 - accuracy: 0.0234\n",
            "Epoch 3/100\n",
            "484/484 [==============================] - 14s 29ms/step - loss: 6.4042 - accuracy: 0.0268\n",
            "Epoch 4/100\n",
            "484/484 [==============================] - 14s 29ms/step - loss: 6.2825 - accuracy: 0.0306\n",
            "Epoch 5/100\n",
            "484/484 [==============================] - 14s 29ms/step - loss: 6.1634 - accuracy: 0.0363\n",
            "Epoch 6/100\n",
            "484/484 [==============================] - 14s 29ms/step - loss: 6.0436 - accuracy: 0.0405\n",
            "Epoch 7/100\n",
            "484/484 [==============================] - 14s 29ms/step - loss: 5.9274 - accuracy: 0.0422\n",
            "Epoch 8/100\n",
            "484/484 [==============================] - 14s 30ms/step - loss: 5.8095 - accuracy: 0.0448\n",
            "Epoch 9/100\n",
            "484/484 [==============================] - 14s 30ms/step - loss: 5.6914 - accuracy: 0.0552\n",
            "Epoch 10/100\n",
            "484/484 [==============================] - 14s 30ms/step - loss: 5.5647 - accuracy: 0.0655\n",
            "Epoch 11/100\n",
            "484/484 [==============================] - 14s 29ms/step - loss: 5.4370 - accuracy: 0.0715\n",
            "Epoch 12/100\n",
            "484/484 [==============================] - 14s 30ms/step - loss: 5.3039 - accuracy: 0.0821\n",
            "Epoch 13/100\n",
            "484/484 [==============================] - 14s 29ms/step - loss: 5.1781 - accuracy: 0.0942\n",
            "Epoch 14/100\n",
            "484/484 [==============================] - 14s 30ms/step - loss: 5.0558 - accuracy: 0.1035\n",
            "Epoch 15/100\n",
            "484/484 [==============================] - 14s 29ms/step - loss: 4.9256 - accuracy: 0.1110\n",
            "Epoch 16/100\n",
            "484/484 [==============================] - 14s 30ms/step - loss: 4.8076 - accuracy: 0.1211\n",
            "Epoch 17/100\n",
            "484/484 [==============================] - 14s 30ms/step - loss: 4.6896 - accuracy: 0.1315\n",
            "Epoch 18/100\n",
            "484/484 [==============================] - 14s 30ms/step - loss: 4.5750 - accuracy: 0.1399\n",
            "Epoch 19/100\n",
            "484/484 [==============================] - 14s 30ms/step - loss: 4.4543 - accuracy: 0.1512\n",
            "Epoch 20/100\n",
            "484/484 [==============================] - 14s 30ms/step - loss: 4.3423 - accuracy: 0.1644\n",
            "Epoch 21/100\n",
            "484/484 [==============================] - 14s 30ms/step - loss: 4.2181 - accuracy: 0.1800\n",
            "Epoch 22/100\n",
            "484/484 [==============================] - 14s 30ms/step - loss: 4.1000 - accuracy: 0.1897\n",
            "Epoch 23/100\n",
            "484/484 [==============================] - 14s 30ms/step - loss: 3.9902 - accuracy: 0.2064\n",
            "Epoch 24/100\n",
            "484/484 [==============================] - 14s 30ms/step - loss: 3.8833 - accuracy: 0.2238\n",
            "Epoch 25/100\n",
            "484/484 [==============================] - 14s 30ms/step - loss: 3.7699 - accuracy: 0.2403\n",
            "Epoch 26/100\n",
            "484/484 [==============================] - 14s 30ms/step - loss: 3.6540 - accuracy: 0.2664\n",
            "Epoch 27/100\n",
            "484/484 [==============================] - 14s 30ms/step - loss: 3.5566 - accuracy: 0.2837\n",
            "Epoch 28/100\n",
            "484/484 [==============================] - 14s 30ms/step - loss: 3.4502 - accuracy: 0.3051\n",
            "Epoch 29/100\n",
            "484/484 [==============================] - 14s 30ms/step - loss: 3.3520 - accuracy: 0.3286\n",
            "Epoch 30/100\n",
            "484/484 [==============================] - 14s 30ms/step - loss: 3.2482 - accuracy: 0.3470\n",
            "Epoch 31/100\n",
            "484/484 [==============================] - 14s 30ms/step - loss: 3.1549 - accuracy: 0.3740\n",
            "Epoch 32/100\n",
            "484/484 [==============================] - 14s 30ms/step - loss: 3.0734 - accuracy: 0.3853\n",
            "Epoch 33/100\n",
            "484/484 [==============================] - 14s 30ms/step - loss: 2.9892 - accuracy: 0.4103\n",
            "Epoch 34/100\n",
            "484/484 [==============================] - 14s 30ms/step - loss: 2.8999 - accuracy: 0.4276\n",
            "Epoch 35/100\n",
            "484/484 [==============================] - 14s 30ms/step - loss: 2.8231 - accuracy: 0.4430\n",
            "Epoch 36/100\n",
            "484/484 [==============================] - 14s 30ms/step - loss: 2.7493 - accuracy: 0.4625\n",
            "Epoch 37/100\n",
            "484/484 [==============================] - 14s 30ms/step - loss: 2.6625 - accuracy: 0.4845\n",
            "Epoch 38/100\n",
            "484/484 [==============================] - 14s 30ms/step - loss: 2.6008 - accuracy: 0.4934\n",
            "Epoch 39/100\n",
            "484/484 [==============================] - 14s 30ms/step - loss: 2.5393 - accuracy: 0.5135\n",
            "Epoch 40/100\n",
            "484/484 [==============================] - 14s 30ms/step - loss: 2.4671 - accuracy: 0.5294\n",
            "Epoch 41/100\n",
            "484/484 [==============================] - 14s 30ms/step - loss: 2.4042 - accuracy: 0.5378\n",
            "Epoch 42/100\n",
            "484/484 [==============================] - 14s 30ms/step - loss: 2.3519 - accuracy: 0.5558\n",
            "Epoch 43/100\n",
            "484/484 [==============================] - 14s 30ms/step - loss: 2.2870 - accuracy: 0.5671\n",
            "Epoch 44/100\n",
            "484/484 [==============================] - 14s 30ms/step - loss: 2.2238 - accuracy: 0.5854\n",
            "Epoch 45/100\n",
            "484/484 [==============================] - 14s 30ms/step - loss: 2.1678 - accuracy: 0.5989\n",
            "Epoch 46/100\n",
            "484/484 [==============================] - 14s 29ms/step - loss: 2.1071 - accuracy: 0.6125\n",
            "Epoch 47/100\n",
            "484/484 [==============================] - 14s 30ms/step - loss: 2.0670 - accuracy: 0.6226\n",
            "Epoch 48/100\n",
            "484/484 [==============================] - 14s 30ms/step - loss: 2.0231 - accuracy: 0.6308\n",
            "Epoch 49/100\n",
            "484/484 [==============================] - 14s 29ms/step - loss: 1.9753 - accuracy: 0.6420\n",
            "Epoch 50/100\n",
            "484/484 [==============================] - 14s 30ms/step - loss: 1.9297 - accuracy: 0.6560\n",
            "Epoch 51/100\n",
            "484/484 [==============================] - 14s 29ms/step - loss: 1.8732 - accuracy: 0.6659\n",
            "Epoch 52/100\n",
            "484/484 [==============================] - 14s 29ms/step - loss: 1.8458 - accuracy: 0.6722\n",
            "Epoch 53/100\n",
            "484/484 [==============================] - 14s 30ms/step - loss: 1.8108 - accuracy: 0.6776\n",
            "Epoch 54/100\n",
            "484/484 [==============================] - 14s 29ms/step - loss: 1.7641 - accuracy: 0.6914\n",
            "Epoch 55/100\n",
            "484/484 [==============================] - 14s 30ms/step - loss: 1.7143 - accuracy: 0.7025\n",
            "Epoch 56/100\n",
            "484/484 [==============================] - 14s 30ms/step - loss: 1.6929 - accuracy: 0.7065\n",
            "Epoch 57/100\n",
            "484/484 [==============================] - 14s 29ms/step - loss: 1.6611 - accuracy: 0.7095\n",
            "Epoch 58/100\n",
            "484/484 [==============================] - 14s 29ms/step - loss: 1.6355 - accuracy: 0.7182\n",
            "Epoch 59/100\n",
            "484/484 [==============================] - 14s 30ms/step - loss: 1.6106 - accuracy: 0.7222\n",
            "Epoch 60/100\n",
            "484/484 [==============================] - 14s 30ms/step - loss: 1.5654 - accuracy: 0.7304\n",
            "Epoch 61/100\n",
            "484/484 [==============================] - 14s 30ms/step - loss: 1.5477 - accuracy: 0.7339\n",
            "Epoch 62/100\n",
            "484/484 [==============================] - 14s 30ms/step - loss: 1.5222 - accuracy: 0.7379\n",
            "Epoch 63/100\n",
            "484/484 [==============================] - 14s 30ms/step - loss: 1.4853 - accuracy: 0.7465\n",
            "Epoch 64/100\n",
            "484/484 [==============================] - 14s 29ms/step - loss: 1.4504 - accuracy: 0.7557\n",
            "Epoch 65/100\n",
            "484/484 [==============================] - 14s 29ms/step - loss: 1.4396 - accuracy: 0.7549\n",
            "Epoch 66/100\n",
            "484/484 [==============================] - 14s 30ms/step - loss: 1.4235 - accuracy: 0.7581\n",
            "Epoch 67/100\n",
            "484/484 [==============================] - 14s 29ms/step - loss: 1.4020 - accuracy: 0.7656\n",
            "Epoch 68/100\n",
            "484/484 [==============================] - 14s 30ms/step - loss: 1.3718 - accuracy: 0.7676\n",
            "Epoch 69/100\n",
            "484/484 [==============================] - 14s 30ms/step - loss: 1.3690 - accuracy: 0.7659\n",
            "Epoch 70/100\n",
            "484/484 [==============================] - 14s 30ms/step - loss: 1.3463 - accuracy: 0.7700\n",
            "Epoch 71/100\n",
            "484/484 [==============================] - 14s 30ms/step - loss: 1.3195 - accuracy: 0.7773\n",
            "Epoch 72/100\n",
            "484/484 [==============================] - 14s 30ms/step - loss: 1.3161 - accuracy: 0.7767\n",
            "Epoch 73/100\n",
            "484/484 [==============================] - 14s 30ms/step - loss: 1.2772 - accuracy: 0.7859\n",
            "Epoch 74/100\n",
            "484/484 [==============================] - 14s 29ms/step - loss: 1.2616 - accuracy: 0.7872\n",
            "Epoch 75/100\n",
            "484/484 [==============================] - 14s 29ms/step - loss: 1.2568 - accuracy: 0.7894\n",
            "Epoch 76/100\n",
            "484/484 [==============================] - 14s 30ms/step - loss: 1.2456 - accuracy: 0.7901\n",
            "Epoch 77/100\n",
            "484/484 [==============================] - 14s 30ms/step - loss: 1.2277 - accuracy: 0.7908\n",
            "Epoch 78/100\n",
            "484/484 [==============================] - 14s 30ms/step - loss: 1.2112 - accuracy: 0.7943\n",
            "Epoch 79/100\n",
            "484/484 [==============================] - 14s 30ms/step - loss: 1.1974 - accuracy: 0.7955\n",
            "Epoch 80/100\n",
            "484/484 [==============================] - 14s 30ms/step - loss: 1.1776 - accuracy: 0.8000\n",
            "Epoch 81/100\n",
            "484/484 [==============================] - 15s 30ms/step - loss: 1.1708 - accuracy: 0.8007\n",
            "Epoch 82/100\n",
            "484/484 [==============================] - 14s 30ms/step - loss: 1.1647 - accuracy: 0.8022\n",
            "Epoch 83/100\n",
            "484/484 [==============================] - 14s 30ms/step - loss: 1.1580 - accuracy: 0.7994\n",
            "Epoch 84/100\n",
            "484/484 [==============================] - 14s 30ms/step - loss: 1.1450 - accuracy: 0.8033\n",
            "Epoch 85/100\n",
            "484/484 [==============================] - 14s 30ms/step - loss: 1.1275 - accuracy: 0.8060\n",
            "Epoch 86/100\n",
            "484/484 [==============================] - 14s 30ms/step - loss: 1.1314 - accuracy: 0.8058\n",
            "Epoch 87/100\n",
            "484/484 [==============================] - 14s 30ms/step - loss: 1.1170 - accuracy: 0.8056\n",
            "Epoch 88/100\n",
            "484/484 [==============================] - 14s 30ms/step - loss: 1.0979 - accuracy: 0.8100\n",
            "Epoch 89/100\n",
            "484/484 [==============================] - 14s 30ms/step - loss: 1.0806 - accuracy: 0.8155\n",
            "Epoch 90/100\n",
            "484/484 [==============================] - 14s 30ms/step - loss: 1.0644 - accuracy: 0.8172\n",
            "Epoch 91/100\n",
            "484/484 [==============================] - 14s 30ms/step - loss: 1.0753 - accuracy: 0.8115\n",
            "Epoch 92/100\n",
            "484/484 [==============================] - 14s 30ms/step - loss: 1.0593 - accuracy: 0.8154\n",
            "Epoch 93/100\n",
            "484/484 [==============================] - 14s 30ms/step - loss: 1.0463 - accuracy: 0.8170\n",
            "Epoch 94/100\n",
            "484/484 [==============================] - 14s 30ms/step - loss: 1.0384 - accuracy: 0.8181\n",
            "Epoch 95/100\n",
            "484/484 [==============================] - 14s 30ms/step - loss: 1.0351 - accuracy: 0.8167\n",
            "Epoch 96/100\n",
            "484/484 [==============================] - 14s 30ms/step - loss: 1.0453 - accuracy: 0.8137\n",
            "Epoch 97/100\n",
            "484/484 [==============================] - 14s 30ms/step - loss: 1.0373 - accuracy: 0.8195\n",
            "Epoch 98/100\n",
            "484/484 [==============================] - 15s 30ms/step - loss: 1.0165 - accuracy: 0.8190\n",
            "Epoch 99/100\n",
            "484/484 [==============================] - 15s 30ms/step - loss: 1.0028 - accuracy: 0.8247\n",
            "Epoch 100/100\n",
            "484/484 [==============================] - 15s 30ms/step - loss: 0.9874 - accuracy: 0.8257\n"
          ]
        }
      ]
    },
    {
      "cell_type": "code",
      "metadata": {
        "id": "1fXTEO3GJ282",
        "colab": {
          "base_uri": "https://localhost:8080/",
          "height": 545
        },
        "outputId": "76b8230c-7a71-461d-94a3-1f8d62b1e96f"
      },
      "source": [
        "import matplotlib.pyplot as plt\n",
        "acc = history.history['accuracy']\n",
        "loss = history.history['loss']\n",
        "\n",
        "epochs = range(len(acc))\n",
        "\n",
        "plt.plot(epochs, acc, 'b', label='Training accuracy')\n",
        "plt.title('Training accuracy')\n",
        "\n",
        "plt.figure()\n",
        "\n",
        "plt.plot(epochs, loss, 'b', label='Training Loss')\n",
        "plt.title('Training loss')\n",
        "plt.legend()\n",
        "\n",
        "plt.show()"
      ],
      "execution_count": 7,
      "outputs": [
        {
          "output_type": "display_data",
          "data": {
            "image/png": "[encoded data removed]",
            "text/plain": [
              "<Figure size 432x288 with 1 Axes>"
            ]
          },
          "metadata": {
            "needs_background": "light"
          }
        },
        {
          "output_type": "display_data",
          "data": {
            "image/png": "[encoded data removed]",
            "text/plain": [
              "<Figure size 432x288 with 1 Axes>"
            ]
          },
          "metadata": {
            "needs_background": "light"
          }
        }
      ]
    },
    {
      "cell_type": "code",
      "metadata": {
        "id": "6Vc6PHgxa6Hm",
        "colab": {
          "base_uri": "https://localhost:8080/"
        },
        "outputId": "245acd8e-ee64-4098-c4e6-15953af5c962"
      },
      "source": [
        "seed_text = \"Help me Obi Wan Kenobi, you're my only hope\"\n",
        "next_words = 100\n",
        "  \n",
        "for _ in range(next_words):\n",
        "\ttoken_list = tokenizer.texts_to_sequences([seed_text])[0]\n",
        "\ttoken_list = pad_sequences([token_list], maxlen=max_sequence_len-1, padding='pre')\n",
        "\tpredicted = np.argmax(model.predict(token_list, verbose=0))\n",
        "\toutput_word = \"\"\n",
        "\tfor word, index in tokenizer.word_index.items():\n",
        "\t\tif index == predicted:\n",
        "\t\t\toutput_word = word\n",
        "\t\t\tbreak\n",
        "\tseed_text += \" \" + output_word\n",
        "print(seed_text)"
      ],
      "execution_count": 9,
      "outputs": [
        {
          "output_type": "stream",
          "name": "stdout",
          "text": [
            "Help me Obi Wan Kenobi, you're my only hope thy name from thee well doth bear thee shows be loss to thine eyes go to come still hence see men made good state words than loss doth loss in true true date sea with men ride appear prove thee quite gone 'tis men and grow false prove me cold cold ' did blot her this proceed place his glory not not well old cause of thee thee to thee contains in mine own delight eyes right true heaven room true tongue 'tis still alone die here doth alone here are doth show thee write the old prime one doth\n"
          ]
        }
      ]
    },
    {
      "cell_type": "code",
      "metadata": {
        "id": "7W7iLINCFCbY"
      },
      "source": [
        ""
      ],
      "execution_count": null,
      "outputs": []
    }
  ]
}