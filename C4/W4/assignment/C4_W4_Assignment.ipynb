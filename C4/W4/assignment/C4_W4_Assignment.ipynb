{
  "nbformat": 4,
  "nbformat_minor": 0,
  "metadata": {
    "accelerator": "GPU",
    "colab": {
      "name": "C4_W4_Assignment.ipynb",
      "provenance": [],
      "collapsed_sections": [],
      "toc_visible": true,
      "include_colab_link": true
    },
    "kernelspec": {
      "display_name": "Python 3",
      "language": "python",
      "name": "python3"
    },
    "language_info": {
      "codemirror_mode": {
        "name": "ipython",
        "version": 3
      },
      "file_extension": ".py",
      "mimetype": "text/x-python",
      "name": "python",
      "nbconvert_exporter": "python",
      "pygments_lexer": "ipython3",
      "version": "3.8.5"
    }
  },
  "cells": [
    {
      "cell_type": "markdown",
      "metadata": {
        "id": "view-in-github",
        "colab_type": "text"
      },
      "source": [
        "<a href=\"https://colab.research.google.com/github/Uma-kanagarajan/Deep_Learning_Coursera/blob/main/C4/W4/assignment/C4_W4_Assignment.ipynb\" target=\"_parent\"><img src=\"https://colab.research.google.com/assets/colab-badge.svg\" alt=\"Open In Colab\"/></a>"
      ]
    },
    {
      "cell_type": "code",
      "metadata": {
        "id": "zX4Kg8DUTKWO"
      },
      "source": [
        "#@title Licensed under the Apache License, Version 2.0 (the \"License\");\n",
        "# you may not use this file except in compliance with the License.\n",
        "# You may obtain a copy of the License at\n",
        "#\n",
        "# https://www.apache.org/licenses/LICENSE-2.0\n",
        "#\n",
        "# Unless required by applicable law or agreed to in writing, software\n",
        "# distributed under the License is distributed on an \"AS IS\" BASIS,\n",
        "# WITHOUT WARRANTIES OR CONDITIONS OF ANY KIND, either express or implied.\n",
        "# See the License for the specific language governing permissions and\n",
        "# limitations under the License."
      ],
      "execution_count": null,
      "outputs": []
    },
    {
      "cell_type": "markdown",
      "metadata": {
        "id": "1m0njwZtsvy_"
      },
      "source": [
        "**Note:** This notebook can run using TensorFlow 2.5.0"
      ]
    },
    {
      "cell_type": "code",
      "metadata": {
        "id": "D5DDeGwLsvzA"
      },
      "source": [
        "#!pip install tensorflow==2.5.0"
      ],
      "execution_count": null,
      "outputs": []
    },
    {
      "cell_type": "code",
      "metadata": {
        "id": "56XEQOGknrAk",
        "outputId": "6e779f7b-68fa-41d6-c509-ee3f2096232d",
        "colab": {
          "base_uri": "https://localhost:8080/"
        }
      },
      "source": [
        "import tensorflow as tf\n",
        "print(tf.__version__)"
      ],
      "execution_count": 21,
      "outputs": [
        {
          "output_type": "stream",
          "name": "stdout",
          "text": [
            "2.6.0\n"
          ]
        }
      ]
    },
    {
      "cell_type": "code",
      "metadata": {
        "id": "sLl52leVp5wU"
      },
      "source": [
        "import numpy as np\n",
        "import matplotlib.pyplot as plt\n",
        "def plot_series(time, series, format=\"-\", start=0, end=None):\n",
        "    plt.plot(time[start:end], series[start:end], format)\n",
        "    plt.xlabel(\"Time\")\n",
        "    plt.ylabel(\"Value\")\n",
        "    plt.grid(True)"
      ],
      "execution_count": 22,
      "outputs": []
    },
    {
      "cell_type": "code",
      "metadata": {
        "id": "tP7oqUdkk0gY",
        "outputId": "07628f3f-d5e4-4ac9-85da-245012248c23",
        "colab": {
          "base_uri": "https://localhost:8080/"
        }
      },
      "source": [
        "!wget --no-check-certificate \\\n",
        "    https://raw.githubusercontent.com/jbrownlee/Datasets/master/daily-min-temperatures.csv \\\n",
        "    -O /tmp/daily-min-temperatures.csv"
      ],
      "execution_count": 23,
      "outputs": [
        {
          "output_type": "stream",
          "name": "stdout",
          "text": [
            "--2021-10-19 15:58:22--  https://raw.githubusercontent.com/jbrownlee/Datasets/master/daily-min-temperatures.csv\n",
            "Resolving raw.githubusercontent.com (raw.githubusercontent.com)... 185.199.108.133, 185.199.109.133, 185.199.110.133, ...\n",
            "Connecting to raw.githubusercontent.com (raw.githubusercontent.com)|185.199.108.133|:443... connected.\n",
            "HTTP request sent, awaiting response... 200 OK\n",
            "Length: 67921 (66K) [text/plain]\n",
            "Saving to: ‘/tmp/daily-min-temperatures.csv’\n",
            "\n",
            "\r          /tmp/dail   0%[                    ]       0  --.-KB/s               \r/tmp/daily-min-temp 100%[===================>]  66.33K  --.-KB/s    in 0.01s   \n",
            "\n",
            "2021-10-19 15:58:22 (5.62 MB/s) - ‘/tmp/daily-min-temperatures.csv’ saved [67921/67921]\n",
            "\n"
          ]
        }
      ]
    },
    {
      "cell_type": "code",
      "metadata": {
        "id": "NcG9r1eClbTh",
        "outputId": "04d5764d-8d45-46bd-9c97-794fb646830e",
        "colab": {
          "base_uri": "https://localhost:8080/",
          "height": 388
        }
      },
      "source": [
        "import csv\n",
        "time_step = []\n",
        "temps = []\n",
        "\n",
        "with open('/tmp/daily-min-temperatures.csv') as csvfile:\n",
        "  reader = csv.reader(csvfile, delimiter=',')\n",
        "  next(reader)\n",
        "  step=0\n",
        "  for row in reader:\n",
        "    temps.append(float(row[1]))\n",
        "    time_step.append(step)\n",
        "    step = step+1\n",
        "    \n",
        "# YOUR CODE HERE. READ TEMPERATURES INTO TEMPS\n",
        "# HAVE TIME STEPS BE A SIMPLE ARRAY OF 1, 2, 3, 4 etc\n",
        "\n",
        "\n",
        "series = np.array(temps)\n",
        "time = np.array(time_step)\n",
        "plt.figure(figsize=(10, 6))\n",
        "plot_series(time, series)"
      ],
      "execution_count": 24,
      "outputs": [
        {
          "output_type": "display_data",
          "data": {
            "image/png": "[encoded data removed]",
            "text/plain": [
              "<Figure size 720x432 with 1 Axes>"
            ]
          },
          "metadata": {
            "needs_background": "light"
          }
        }
      ]
    },
    {
      "cell_type": "code",
      "metadata": {
        "id": "L92YRw_IpCFG"
      },
      "source": [
        "split_time = 2500\n",
        "time_train = time[:split_time] # YOUR CODE HERE\n",
        "x_train = series[:split_time] # YOUR CODE HERE\n",
        "time_valid = time[split_time:]# YOUR CODE HERE\n",
        "x_valid = series[split_time:]# YOUR CODE HERE\n",
        "\n",
        "window_size = 30\n",
        "batch_size = 32\n",
        "shuffle_buffer_size = 1000\n"
      ],
      "execution_count": 25,
      "outputs": []
    },
    {
      "cell_type": "code",
      "metadata": {
        "id": "lJwUUZscnG38"
      },
      "source": [
        "def windowed_dataset(series, window_size, batch_size, shuffle_buffer):\n",
        "  series = tf.expand_dims(series, axis=-1)\n",
        "  ds = tf.data.Dataset.from_tensor_slices(series)\n",
        "  ds = ds.window(window_size+1, shift=1, drop_remainder=True)\n",
        "  ds = ds.flat_map(lambda w: w.batch(window_size+1))\n",
        "  ds = ds.shuffle(shuffle_buffer)\n",
        "  ds = ds.map(lambda w : (w[:-1], w[1:]))\n",
        "  return ds.batch(batch_size).prefetch(1)\n",
        "# YOUR CODE HERE\n"
      ],
      "execution_count": 26,
      "outputs": []
    },
    {
      "cell_type": "code",
      "metadata": {
        "id": "4XwGrf-A_wF0"
      },
      "source": [
        "def model_forecast(model, series, window_size):\n",
        "  ds = tf.data.Dataset.from_tensor_slices(series)\n",
        "  ds = ds.window(window_size, shift=1, drop_remainder=True)\n",
        "  ds = ds.flat_map(lambda w: w.batch(window_size) )\n",
        "  ds = ds.batch(32).prefetch(1)\n",
        "  forecast = model.predict(ds)\n",
        "  return forecast\n",
        "    # YOUR CODE HERE"
      ],
      "execution_count": 27,
      "outputs": []
    },
    {
      "cell_type": "code",
      "metadata": {
        "id": "AclfYY3Mn6Ph",
        "outputId": "9e3c6bd6-8488-464d-efe1-bb12da651714",
        "colab": {
          "base_uri": "https://localhost:8080/"
        }
      },
      "source": [
        "tf.keras.backend.clear_session()\n",
        "tf.random.set_seed(51)\n",
        "np.random.seed(51)\n",
        "window_size = 64\n",
        "batch_size = 256\n",
        "train_set = windowed_dataset(x_train, window_size, batch_size, shuffle_buffer_size)\n",
        "print(train_set)\n",
        "print(x_train.shape)\n",
        "\n",
        "model = tf.keras.models.Sequential([\n",
        "  tf.keras.layers.Conv1D(filters=32, kernel_size=5, \n",
        "                         strides = 1, padding='causal',\n",
        "                         activation='relu',\n",
        "                         input_shape=[None,1]),\n",
        "  tf.keras.layers.LSTM(64, return_sequences=True),\n",
        "  tf.keras.layers.LSTM(64, return_sequences=True),\n",
        "  tf.keras.layers.Dense(30, activation='relu'),\n",
        "  tf.keras.layers.Dense(10, activation='relu'),\n",
        "  tf.keras.layers.Dense(1),\n",
        "  tf.keras.layers.Lambda(lambda x: x * 400)\n",
        "# YOUR CODE HERE\n",
        "])\n",
        "\n",
        "lr_schedule = tf.keras.callbacks.LearningRateScheduler(\n",
        "    lambda epoch: 1e-8 * 10**(epoch / 20))\n",
        "optimizer = tf.keras.optimizers.SGD(learning_rate=1e-8, momentum=0.9)\n",
        "model.compile(loss=tf.keras.losses.Huber(),\n",
        "              optimizer=optimizer,\n",
        "              metrics=[\"mae\"])\n",
        "history = model.fit(train_set, epochs=100, callbacks=[lr_schedule])\n"
      ],
      "execution_count": 30,
      "outputs": [
        {
          "output_type": "stream",
          "name": "stdout",
          "text": [
            "<PrefetchDataset shapes: ((None, None, 1), (None, None, 1)), types: (tf.float64, tf.float64)>\n",
            "(2500,)\n",
            "Epoch 1/100\n",
            "10/10 [==============================] - 4s 41ms/step - loss: 31.1571 - mae: 31.6550\n",
            "Epoch 2/100\n",
            "10/10 [==============================] - 1s 55ms/step - loss: 30.5778 - mae: 31.0756\n",
            "Epoch 3/100\n",
            "10/10 [==============================] - 1s 54ms/step - loss: 29.6825 - mae: 30.1801\n",
            "Epoch 4/100\n",
            "10/10 [==============================] - 1s 55ms/step - loss: 28.5613 - mae: 29.0586\n",
            "Epoch 5/100\n",
            "10/10 [==============================] - 1s 57ms/step - loss: 27.1974 - mae: 27.6945\n",
            "Epoch 6/100\n",
            "10/10 [==============================] - 1s 58ms/step - loss: 25.5017 - mae: 25.9986\n",
            "Epoch 7/100\n",
            "10/10 [==============================] - 1s 56ms/step - loss: 23.3464 - mae: 23.8429\n",
            "Epoch 8/100\n",
            "10/10 [==============================] - 1s 54ms/step - loss: 20.6147 - mae: 21.1108\n",
            "Epoch 9/100\n",
            "10/10 [==============================] - 1s 56ms/step - loss: 17.3142 - mae: 17.8091\n",
            "Epoch 10/100\n",
            "10/10 [==============================] - 1s 56ms/step - loss: 13.6448 - mae: 14.1371\n",
            "Epoch 11/100\n",
            "10/10 [==============================] - 1s 53ms/step - loss: 10.1272 - mae: 10.6152\n",
            "Epoch 12/100\n",
            "10/10 [==============================] - 1s 57ms/step - loss: 7.6174 - mae: 8.1025\n",
            "Epoch 13/100\n",
            "10/10 [==============================] - 1s 56ms/step - loss: 6.2869 - mae: 6.7711\n",
            "Epoch 14/100\n",
            "10/10 [==============================] - 1s 55ms/step - loss: 5.7015 - mae: 6.1856\n",
            "Epoch 15/100\n",
            "10/10 [==============================] - 1s 57ms/step - loss: 5.3344 - mae: 5.8166\n",
            "Epoch 16/100\n",
            "10/10 [==============================] - 1s 54ms/step - loss: 4.9409 - mae: 5.4206\n",
            "Epoch 17/100\n",
            "10/10 [==============================] - 1s 54ms/step - loss: 4.5578 - mae: 5.0338\n",
            "Epoch 18/100\n",
            "10/10 [==============================] - 1s 55ms/step - loss: 4.2340 - mae: 4.7085\n",
            "Epoch 19/100\n",
            "10/10 [==============================] - 1s 55ms/step - loss: 3.9611 - mae: 4.4360\n",
            "Epoch 20/100\n",
            "10/10 [==============================] - 1s 56ms/step - loss: 3.7448 - mae: 4.2177\n",
            "Epoch 21/100\n",
            "10/10 [==============================] - 1s 58ms/step - loss: 3.5855 - mae: 4.0566\n",
            "Epoch 22/100\n",
            "10/10 [==============================] - 1s 56ms/step - loss: 3.4641 - mae: 3.9344\n",
            "Epoch 23/100\n",
            "10/10 [==============================] - 1s 55ms/step - loss: 3.3711 - mae: 3.8414\n",
            "Epoch 24/100\n",
            "10/10 [==============================] - 1s 56ms/step - loss: 3.2948 - mae: 3.7645\n",
            "Epoch 25/100\n",
            "10/10 [==============================] - 1s 57ms/step - loss: 3.2288 - mae: 3.6978\n",
            "Epoch 26/100\n",
            "10/10 [==============================] - 1s 58ms/step - loss: 3.1662 - mae: 3.6346\n",
            "Epoch 27/100\n",
            "10/10 [==============================] - 1s 56ms/step - loss: 3.1014 - mae: 3.5693\n",
            "Epoch 28/100\n",
            "10/10 [==============================] - 1s 56ms/step - loss: 3.0380 - mae: 3.5053\n",
            "Epoch 29/100\n",
            "10/10 [==============================] - 1s 57ms/step - loss: 2.9716 - mae: 3.4379\n",
            "Epoch 30/100\n",
            "10/10 [==============================] - 1s 55ms/step - loss: 2.9063 - mae: 3.3712\n",
            "Epoch 31/100\n",
            "10/10 [==============================] - 1s 55ms/step - loss: 2.8452 - mae: 3.3098\n",
            "Epoch 32/100\n",
            "10/10 [==============================] - 1s 57ms/step - loss: 2.7842 - mae: 3.2479\n",
            "Epoch 33/100\n",
            "10/10 [==============================] - 1s 59ms/step - loss: 2.7256 - mae: 3.1891\n",
            "Epoch 34/100\n",
            "10/10 [==============================] - 1s 55ms/step - loss: 2.6740 - mae: 3.1379\n",
            "Epoch 35/100\n",
            "10/10 [==============================] - 1s 58ms/step - loss: 2.6212 - mae: 3.0849\n",
            "Epoch 36/100\n",
            "10/10 [==============================] - 1s 54ms/step - loss: 2.5728 - mae: 3.0357\n",
            "Epoch 37/100\n",
            "10/10 [==============================] - 1s 54ms/step - loss: 2.5254 - mae: 2.9877\n",
            "Epoch 38/100\n",
            "10/10 [==============================] - 1s 55ms/step - loss: 2.4800 - mae: 2.9415\n",
            "Epoch 39/100\n",
            "10/10 [==============================] - 1s 54ms/step - loss: 2.4355 - mae: 2.8968\n",
            "Epoch 40/100\n",
            "10/10 [==============================] - 1s 56ms/step - loss: 2.3933 - mae: 2.8541\n",
            "Epoch 41/100\n",
            "10/10 [==============================] - 1s 57ms/step - loss: 2.3523 - mae: 2.8124\n",
            "Epoch 42/100\n",
            "10/10 [==============================] - 1s 55ms/step - loss: 2.3124 - mae: 2.7718\n",
            "Epoch 43/100\n",
            "10/10 [==============================] - 1s 59ms/step - loss: 2.2730 - mae: 2.7315\n",
            "Epoch 44/100\n",
            "10/10 [==============================] - 1s 56ms/step - loss: 2.2338 - mae: 2.6913\n",
            "Epoch 45/100\n",
            "10/10 [==============================] - 1s 55ms/step - loss: 2.1954 - mae: 2.6523\n",
            "Epoch 46/100\n",
            "10/10 [==============================] - 1s 60ms/step - loss: 2.1622 - mae: 2.6190\n",
            "Epoch 47/100\n",
            "10/10 [==============================] - 1s 56ms/step - loss: 2.1313 - mae: 2.5877\n",
            "Epoch 48/100\n",
            "10/10 [==============================] - 1s 56ms/step - loss: 2.1047 - mae: 2.5607\n",
            "Epoch 49/100\n",
            "10/10 [==============================] - 1s 57ms/step - loss: 2.0740 - mae: 2.5300\n",
            "Epoch 50/100\n",
            "10/10 [==============================] - 1s 54ms/step - loss: 2.0481 - mae: 2.5040\n",
            "Epoch 51/100\n",
            "10/10 [==============================] - 1s 55ms/step - loss: 2.0263 - mae: 2.4818\n",
            "Epoch 52/100\n",
            "10/10 [==============================] - 1s 56ms/step - loss: 2.0048 - mae: 2.4598\n",
            "Epoch 53/100\n",
            "10/10 [==============================] - 1s 58ms/step - loss: 1.9897 - mae: 2.4444\n",
            "Epoch 54/100\n",
            "10/10 [==============================] - 1s 56ms/step - loss: 1.9650 - mae: 2.4193\n",
            "Epoch 55/100\n",
            "10/10 [==============================] - 1s 56ms/step - loss: 1.9469 - mae: 2.4009\n",
            "Epoch 56/100\n",
            "10/10 [==============================] - 1s 58ms/step - loss: 1.9247 - mae: 2.3783\n",
            "Epoch 57/100\n",
            "10/10 [==============================] - 1s 57ms/step - loss: 1.9089 - mae: 2.3620\n",
            "Epoch 58/100\n",
            "10/10 [==============================] - 1s 57ms/step - loss: 1.8863 - mae: 2.3394\n",
            "Epoch 59/100\n",
            "10/10 [==============================] - 1s 60ms/step - loss: 1.8593 - mae: 2.3120\n",
            "Epoch 60/100\n",
            "10/10 [==============================] - 1s 59ms/step - loss: 2.1956 - mae: 2.6555\n",
            "Epoch 61/100\n",
            "10/10 [==============================] - 1s 57ms/step - loss: 2.6849 - mae: 3.1558\n",
            "Epoch 62/100\n",
            "10/10 [==============================] - 1s 57ms/step - loss: 3.0854 - mae: 3.5612\n",
            "Epoch 63/100\n",
            "10/10 [==============================] - 1s 58ms/step - loss: 3.5166 - mae: 3.9958\n",
            "Epoch 64/100\n",
            "10/10 [==============================] - 1s 61ms/step - loss: 3.6553 - mae: 4.1364\n",
            "Epoch 65/100\n",
            "10/10 [==============================] - 1s 57ms/step - loss: 4.2076 - mae: 4.6942\n",
            "Epoch 66/100\n",
            "10/10 [==============================] - 1s 59ms/step - loss: 4.3832 - mae: 4.8696\n",
            "Epoch 67/100\n",
            "10/10 [==============================] - 1s 55ms/step - loss: 4.6320 - mae: 5.1198\n",
            "Epoch 68/100\n",
            "10/10 [==============================] - 1s 57ms/step - loss: 4.7047 - mae: 5.1909\n",
            "Epoch 69/100\n",
            "10/10 [==============================] - 1s 58ms/step - loss: 5.0325 - mae: 5.5206\n",
            "Epoch 70/100\n",
            "10/10 [==============================] - 1s 57ms/step - loss: 5.5347 - mae: 6.0261\n",
            "Epoch 71/100\n",
            "10/10 [==============================] - 1s 56ms/step - loss: 5.2810 - mae: 5.7712\n",
            "Epoch 72/100\n",
            "10/10 [==============================] - 1s 55ms/step - loss: 5.3465 - mae: 5.8365\n",
            "Epoch 73/100\n",
            "10/10 [==============================] - 1s 58ms/step - loss: 4.8802 - mae: 5.3681\n",
            "Epoch 74/100\n",
            "10/10 [==============================] - 1s 56ms/step - loss: 4.5687 - mae: 5.0553\n",
            "Epoch 75/100\n",
            "10/10 [==============================] - 1s 54ms/step - loss: 3.0953 - mae: 3.5668\n",
            "Epoch 76/100\n",
            "10/10 [==============================] - 1s 59ms/step - loss: 2.4755 - mae: 2.9382\n",
            "Epoch 77/100\n",
            "10/10 [==============================] - 1s 58ms/step - loss: 3.0922 - mae: 3.5665\n",
            "Epoch 78/100\n",
            "10/10 [==============================] - 1s 56ms/step - loss: 3.3208 - mae: 3.7982\n",
            "Epoch 79/100\n",
            "10/10 [==============================] - 1s 59ms/step - loss: 3.7170 - mae: 4.1983\n",
            "Epoch 80/100\n",
            "10/10 [==============================] - 1s 56ms/step - loss: 3.7745 - mae: 4.2525\n",
            "Epoch 81/100\n",
            "10/10 [==============================] - 1s 60ms/step - loss: 3.5158 - mae: 3.9921\n",
            "Epoch 82/100\n",
            "10/10 [==============================] - 1s 57ms/step - loss: 3.7973 - mae: 4.2748\n",
            "Epoch 83/100\n",
            "10/10 [==============================] - 1s 57ms/step - loss: 4.4006 - mae: 4.8850\n",
            "Epoch 84/100\n",
            "10/10 [==============================] - 1s 57ms/step - loss: 5.1566 - mae: 5.6461\n",
            "Epoch 85/100\n",
            "10/10 [==============================] - 1s 57ms/step - loss: 5.8204 - mae: 6.3124\n",
            "Epoch 86/100\n",
            "10/10 [==============================] - 1s 55ms/step - loss: 6.2933 - mae: 6.7830\n",
            "Epoch 87/100\n",
            "10/10 [==============================] - 1s 56ms/step - loss: 10.2058 - mae: 10.6988\n",
            "Epoch 88/100\n",
            "10/10 [==============================] - 1s 57ms/step - loss: 18.6591 - mae: 19.1590\n",
            "Epoch 89/100\n",
            "10/10 [==============================] - 1s 56ms/step - loss: 20.2957 - mae: 20.7936\n",
            "Epoch 90/100\n",
            "10/10 [==============================] - 1s 59ms/step - loss: 29.6171 - mae: 30.1130\n",
            "Epoch 91/100\n",
            "10/10 [==============================] - 1s 55ms/step - loss: 87.7261 - mae: 88.2229\n",
            "Epoch 92/100\n",
            "10/10 [==============================] - 1s 54ms/step - loss: 135.7168 - mae: 136.2157\n",
            "Epoch 93/100\n",
            "10/10 [==============================] - 1s 55ms/step - loss: 82.4660 - mae: 82.9657\n",
            "Epoch 94/100\n",
            "10/10 [==============================] - 1s 57ms/step - loss: 47.9002 - mae: 48.3977\n",
            "Epoch 95/100\n",
            "10/10 [==============================] - 1s 60ms/step - loss: 38.1328 - mae: 38.6275\n",
            "Epoch 96/100\n",
            "10/10 [==============================] - 1s 57ms/step - loss: 47.2474 - mae: 47.7474\n",
            "Epoch 97/100\n",
            "10/10 [==============================] - 1s 59ms/step - loss: 50.4745 - mae: 50.9744\n",
            "Epoch 98/100\n",
            "10/10 [==============================] - 1s 58ms/step - loss: 60.6239 - mae: 61.1239\n",
            "Epoch 99/100\n",
            "10/10 [==============================] - 1s 56ms/step - loss: 63.9732 - mae: 64.4732\n",
            "Epoch 100/100\n",
            "10/10 [==============================] - 1s 60ms/step - loss: 76.1800 - mae: 76.6800\n"
          ]
        }
      ]
    },
    {
      "cell_type": "code",
      "metadata": {
        "id": "vVcKmg7Q_7rD",
        "outputId": "320194a7-07c5-4542-bfb4-c23fc2539222",
        "colab": {
          "base_uri": "https://localhost:8080/",
          "height": 290
        }
      },
      "source": [
        "plt.semilogx(history.history[\"lr\"], history.history[\"loss\"])\n",
        "plt.axis([1e-8, 1e-4, 0, 60])"
      ],
      "execution_count": 31,
      "outputs": [
        {
          "output_type": "execute_result",
          "data": {
            "text/plain": [
              "(1e-08, 0.0001, 0.0, 60.0)"
            ]
          },
          "metadata": {},
          "execution_count": 31
        },
        {
          "output_type": "display_data",
          "data": {
            "image/png": "[encoded data removed]",
            "text/plain": [
              "<Figure size 432x288 with 1 Axes>"
            ]
          },
          "metadata": {
            "needs_background": "light"
          }
        }
      ]
    },
    {
      "cell_type": "code",
      "metadata": {
        "id": "QsksvkcXAAgq",
        "outputId": "34e2e24f-3df6-46f2-f961-266c6bb8d09a",
        "colab": {
          "base_uri": "https://localhost:8080/"
        }
      },
      "source": [
        "tf.keras.backend.clear_session()\n",
        "tf.random.set_seed(51)\n",
        "np.random.seed(51)\n",
        "train_set = windowed_dataset(x_train, window_size=60, batch_size=100, shuffle_buffer=shuffle_buffer_size)\n",
        "model = tf.keras.models.Sequential([\n",
        "   tf.keras.layers.Conv1D(filters=32, kernel_size=5, \n",
        "                         strides = 1, padding='causal',\n",
        "                         activation='relu',\n",
        "                         input_shape=[None,1]),\n",
        "  tf.keras.layers.LSTM(64, return_sequences=True),\n",
        "  tf.keras.layers.LSTM(64, return_sequences=True),\n",
        "  tf.keras.layers.Dense(30, activation='relu'),\n",
        "  tf.keras.layers.Dense(10, activation='relu'),\n",
        "  tf.keras.layers.Dense(1),\n",
        "  tf.keras.layers.Lambda(lambda x: x * 400)\n",
        "])\n",
        "\n",
        "\n",
        "optimizer = tf.keras.optimizers.SGD(learning_rate=7e-5, momentum=0.9)\n",
        "model.compile(loss=tf.keras.losses.Huber(),\n",
        "              optimizer=optimizer,\n",
        "              metrics=[\"mae\"])\n",
        "history = model.fit(train_set,epochs=150)\n",
        "                                    \n",
        "# EXPECTED OUTPUT SHOULD SEE AN MAE OF <2 WITHIN ABOUT 30 EPOCHS"
      ],
      "execution_count": 37,
      "outputs": [
        {
          "output_type": "stream",
          "name": "stdout",
          "text": [
            "Epoch 1/150\n",
            "25/25 [==============================] - 5s 35ms/step - loss: 12.6290 - mae: 13.1190\n",
            "Epoch 2/150\n",
            "25/25 [==============================] - 1s 37ms/step - loss: 3.2273 - mae: 3.6987\n",
            "Epoch 3/150\n",
            "25/25 [==============================] - 1s 36ms/step - loss: 2.7827 - mae: 3.2493\n",
            "Epoch 4/150\n",
            "25/25 [==============================] - 1s 36ms/step - loss: 2.7118 - mae: 3.1774\n",
            "Epoch 5/150\n",
            "25/25 [==============================] - 1s 36ms/step - loss: 2.1451 - mae: 2.6024\n",
            "Epoch 6/150\n",
            "25/25 [==============================] - 1s 35ms/step - loss: 2.0793 - mae: 2.5357\n",
            "Epoch 7/150\n",
            "25/25 [==============================] - 1s 36ms/step - loss: 2.1179 - mae: 2.5755\n",
            "Epoch 8/150\n",
            "25/25 [==============================] - 1s 36ms/step - loss: 2.0223 - mae: 2.4786\n",
            "Epoch 9/150\n",
            "25/25 [==============================] - 1s 36ms/step - loss: 1.8840 - mae: 2.3368\n",
            "Epoch 10/150\n",
            "25/25 [==============================] - 1s 38ms/step - loss: 1.8714 - mae: 2.3235\n",
            "Epoch 11/150\n",
            "25/25 [==============================] - 1s 37ms/step - loss: 1.9628 - mae: 2.4186\n",
            "Epoch 12/150\n",
            "25/25 [==============================] - 1s 38ms/step - loss: 1.9556 - mae: 2.4110\n",
            "Epoch 13/150\n",
            "25/25 [==============================] - 1s 37ms/step - loss: 2.0206 - mae: 2.4766\n",
            "Epoch 14/150\n",
            "25/25 [==============================] - 1s 37ms/step - loss: 2.1045 - mae: 2.5629\n",
            "Epoch 15/150\n",
            "25/25 [==============================] - 1s 37ms/step - loss: 1.8487 - mae: 2.3009\n",
            "Epoch 16/150\n",
            "25/25 [==============================] - 1s 36ms/step - loss: 1.9608 - mae: 2.4163\n",
            "Epoch 17/150\n",
            "25/25 [==============================] - 1s 38ms/step - loss: 2.1063 - mae: 2.5651\n",
            "Epoch 18/150\n",
            "25/25 [==============================] - 1s 37ms/step - loss: 1.9776 - mae: 2.4337\n",
            "Epoch 19/150\n",
            "25/25 [==============================] - 1s 37ms/step - loss: 1.9478 - mae: 2.4028\n",
            "Epoch 20/150\n",
            "25/25 [==============================] - 1s 38ms/step - loss: 2.0279 - mae: 2.4847\n",
            "Epoch 21/150\n",
            "25/25 [==============================] - 1s 35ms/step - loss: 1.9759 - mae: 2.4318\n",
            "Epoch 22/150\n",
            "25/25 [==============================] - 1s 37ms/step - loss: 2.0975 - mae: 2.5561\n",
            "Epoch 23/150\n",
            "25/25 [==============================] - 1s 36ms/step - loss: 1.9819 - mae: 2.4380\n",
            "Epoch 24/150\n",
            "25/25 [==============================] - 1s 38ms/step - loss: 1.9589 - mae: 2.4140\n",
            "Epoch 25/150\n",
            "25/25 [==============================] - 1s 37ms/step - loss: 2.0200 - mae: 2.4771\n",
            "Epoch 26/150\n",
            "25/25 [==============================] - 1s 37ms/step - loss: 2.0284 - mae: 2.4871\n",
            "Epoch 27/150\n",
            "25/25 [==============================] - 1s 36ms/step - loss: 2.0372 - mae: 2.4955\n",
            "Epoch 28/150\n",
            "25/25 [==============================] - 1s 37ms/step - loss: 2.0242 - mae: 2.4828\n",
            "Epoch 29/150\n",
            "25/25 [==============================] - 1s 37ms/step - loss: 2.0372 - mae: 2.4957\n",
            "Epoch 30/150\n",
            "25/25 [==============================] - 1s 37ms/step - loss: 1.9396 - mae: 2.3954\n",
            "Epoch 31/150\n",
            "25/25 [==============================] - 1s 36ms/step - loss: 2.0302 - mae: 2.4884\n",
            "Epoch 32/150\n",
            "25/25 [==============================] - 1s 37ms/step - loss: 2.0436 - mae: 2.5034\n",
            "Epoch 33/150\n",
            "25/25 [==============================] - 1s 36ms/step - loss: 2.0669 - mae: 2.5271\n",
            "Epoch 34/150\n",
            "25/25 [==============================] - 1s 36ms/step - loss: 1.9504 - mae: 2.4055\n",
            "Epoch 35/150\n",
            "25/25 [==============================] - 1s 36ms/step - loss: 2.1853 - mae: 2.6454\n",
            "Epoch 36/150\n",
            "25/25 [==============================] - 1s 35ms/step - loss: 2.0022 - mae: 2.4601\n",
            "Epoch 37/150\n",
            "25/25 [==============================] - 1s 37ms/step - loss: 2.0725 - mae: 2.5321\n",
            "Epoch 38/150\n",
            "25/25 [==============================] - 1s 36ms/step - loss: 2.0500 - mae: 2.5092\n",
            "Epoch 39/150\n",
            "25/25 [==============================] - 1s 36ms/step - loss: 2.0263 - mae: 2.4853\n",
            "Epoch 40/150\n",
            "25/25 [==============================] - 1s 37ms/step - loss: 2.0395 - mae: 2.4978\n",
            "Epoch 41/150\n",
            "25/25 [==============================] - 1s 37ms/step - loss: 2.0266 - mae: 2.4850\n",
            "Epoch 42/150\n",
            "25/25 [==============================] - 1s 37ms/step - loss: 2.0292 - mae: 2.4870\n",
            "Epoch 43/150\n",
            "25/25 [==============================] - 1s 37ms/step - loss: 2.0426 - mae: 2.5019\n",
            "Epoch 44/150\n",
            "25/25 [==============================] - 1s 38ms/step - loss: 2.0154 - mae: 2.4728\n",
            "Epoch 45/150\n",
            "25/25 [==============================] - 1s 37ms/step - loss: 2.0358 - mae: 2.4954\n",
            "Epoch 46/150\n",
            "25/25 [==============================] - 1s 38ms/step - loss: 1.9716 - mae: 2.4276\n",
            "Epoch 47/150\n",
            "25/25 [==============================] - 1s 38ms/step - loss: 1.9832 - mae: 2.4405\n",
            "Epoch 48/150\n",
            "25/25 [==============================] - 1s 37ms/step - loss: 2.0321 - mae: 2.4902\n",
            "Epoch 49/150\n",
            "25/25 [==============================] - 1s 36ms/step - loss: 2.0718 - mae: 2.5316\n",
            "Epoch 50/150\n",
            "25/25 [==============================] - 1s 36ms/step - loss: 2.0455 - mae: 2.5049\n",
            "Epoch 51/150\n",
            "25/25 [==============================] - 1s 36ms/step - loss: 2.0321 - mae: 2.4904\n",
            "Epoch 52/150\n",
            "25/25 [==============================] - 1s 37ms/step - loss: 2.0351 - mae: 2.4940\n",
            "Epoch 53/150\n",
            "25/25 [==============================] - 1s 37ms/step - loss: 2.0578 - mae: 2.5173\n",
            "Epoch 54/150\n",
            "25/25 [==============================] - 1s 38ms/step - loss: 1.8975 - mae: 2.3515\n",
            "Epoch 55/150\n",
            "25/25 [==============================] - 1s 38ms/step - loss: 2.0670 - mae: 2.5268\n",
            "Epoch 56/150\n",
            "25/25 [==============================] - 1s 38ms/step - loss: 2.0507 - mae: 2.5105\n",
            "Epoch 57/150\n",
            "25/25 [==============================] - 1s 39ms/step - loss: 2.0155 - mae: 2.4741\n",
            "Epoch 58/150\n",
            "25/25 [==============================] - 1s 38ms/step - loss: 2.0000 - mae: 2.4575\n",
            "Epoch 59/150\n",
            "25/25 [==============================] - 1s 37ms/step - loss: 2.0222 - mae: 2.4808\n",
            "Epoch 60/150\n",
            "25/25 [==============================] - 1s 38ms/step - loss: 1.9247 - mae: 2.3793\n",
            "Epoch 61/150\n",
            "25/25 [==============================] - 1s 38ms/step - loss: 1.9884 - mae: 2.4459\n",
            "Epoch 62/150\n",
            "25/25 [==============================] - 1s 38ms/step - loss: 2.0090 - mae: 2.4679\n",
            "Epoch 63/150\n",
            "25/25 [==============================] - 1s 37ms/step - loss: 1.9796 - mae: 2.4370\n",
            "Epoch 64/150\n",
            "25/25 [==============================] - 1s 39ms/step - loss: 2.0591 - mae: 2.5185\n",
            "Epoch 65/150\n",
            "25/25 [==============================] - 1s 38ms/step - loss: 2.0229 - mae: 2.4825\n",
            "Epoch 66/150\n",
            "25/25 [==============================] - 1s 38ms/step - loss: 1.8553 - mae: 2.3073\n",
            "Epoch 67/150\n",
            "25/25 [==============================] - 1s 38ms/step - loss: 2.0445 - mae: 2.5037\n",
            "Epoch 68/150\n",
            "25/25 [==============================] - 1s 37ms/step - loss: 1.9856 - mae: 2.4439\n",
            "Epoch 69/150\n",
            "25/25 [==============================] - 1s 37ms/step - loss: 1.9748 - mae: 2.4324\n",
            "Epoch 70/150\n",
            "25/25 [==============================] - 1s 39ms/step - loss: 2.0125 - mae: 2.4709\n",
            "Epoch 71/150\n",
            "25/25 [==============================] - 1s 38ms/step - loss: 1.9594 - mae: 2.4165\n",
            "Epoch 72/150\n",
            "25/25 [==============================] - 1s 37ms/step - loss: 2.0115 - mae: 2.4701\n",
            "Epoch 73/150\n",
            "25/25 [==============================] - 1s 36ms/step - loss: 1.9773 - mae: 2.4350\n",
            "Epoch 74/150\n",
            "25/25 [==============================] - 1s 38ms/step - loss: 1.9032 - mae: 2.3587\n",
            "Epoch 75/150\n",
            "25/25 [==============================] - 1s 38ms/step - loss: 1.9336 - mae: 2.3894\n",
            "Epoch 76/150\n",
            "25/25 [==============================] - 1s 36ms/step - loss: 2.0305 - mae: 2.4881\n",
            "Epoch 77/150\n",
            "25/25 [==============================] - 1s 36ms/step - loss: 1.9229 - mae: 2.3785\n",
            "Epoch 78/150\n",
            "25/25 [==============================] - 1s 38ms/step - loss: 1.9709 - mae: 2.4285\n",
            "Epoch 79/150\n",
            "25/25 [==============================] - 1s 37ms/step - loss: 1.9893 - mae: 2.4467\n",
            "Epoch 80/150\n",
            "25/25 [==============================] - 1s 39ms/step - loss: 1.9728 - mae: 2.4303\n",
            "Epoch 81/150\n",
            "25/25 [==============================] - 1s 38ms/step - loss: 2.0639 - mae: 2.5250\n",
            "Epoch 82/150\n",
            "25/25 [==============================] - 1s 37ms/step - loss: 1.9653 - mae: 2.4236\n",
            "Epoch 83/150\n",
            "25/25 [==============================] - 1s 37ms/step - loss: 1.9939 - mae: 2.4526\n",
            "Epoch 84/150\n",
            "25/25 [==============================] - 1s 38ms/step - loss: 2.0473 - mae: 2.5061\n",
            "Epoch 85/150\n",
            "25/25 [==============================] - 1s 38ms/step - loss: 1.8716 - mae: 2.3254\n",
            "Epoch 86/150\n",
            "25/25 [==============================] - 1s 38ms/step - loss: 1.9351 - mae: 2.3916\n",
            "Epoch 87/150\n",
            "25/25 [==============================] - 1s 37ms/step - loss: 1.9417 - mae: 2.3975\n",
            "Epoch 88/150\n",
            "25/25 [==============================] - 1s 37ms/step - loss: 1.9945 - mae: 2.4527\n",
            "Epoch 89/150\n",
            "25/25 [==============================] - 1s 37ms/step - loss: 1.8921 - mae: 2.3467\n",
            "Epoch 90/150\n",
            "25/25 [==============================] - 1s 37ms/step - loss: 2.0288 - mae: 2.4880\n",
            "Epoch 91/150\n",
            "25/25 [==============================] - 1s 38ms/step - loss: 1.9999 - mae: 2.4587\n",
            "Epoch 92/150\n",
            "25/25 [==============================] - 1s 37ms/step - loss: 1.9139 - mae: 2.3704\n",
            "Epoch 93/150\n",
            "25/25 [==============================] - 1s 38ms/step - loss: 2.0110 - mae: 2.4696\n",
            "Epoch 94/150\n",
            "25/25 [==============================] - 1s 39ms/step - loss: 2.0002 - mae: 2.4583\n",
            "Epoch 95/150\n",
            "25/25 [==============================] - 1s 38ms/step - loss: 1.8947 - mae: 2.3503\n",
            "Epoch 96/150\n",
            "25/25 [==============================] - 1s 37ms/step - loss: 1.9876 - mae: 2.4460\n",
            "Epoch 97/150\n",
            "25/25 [==============================] - 1s 36ms/step - loss: 1.9779 - mae: 2.4354\n",
            "Epoch 98/150\n",
            "25/25 [==============================] - 1s 37ms/step - loss: 1.9559 - mae: 2.4132\n",
            "Epoch 99/150\n",
            "25/25 [==============================] - 1s 37ms/step - loss: 1.9456 - mae: 2.4040\n",
            "Epoch 100/150\n",
            "25/25 [==============================] - 1s 37ms/step - loss: 1.9864 - mae: 2.4444\n",
            "Epoch 101/150\n",
            "25/25 [==============================] - 1s 37ms/step - loss: 1.9765 - mae: 2.4340\n",
            "Epoch 102/150\n",
            "25/25 [==============================] - 1s 37ms/step - loss: 1.8528 - mae: 2.3062\n",
            "Epoch 103/150\n",
            "25/25 [==============================] - 1s 38ms/step - loss: 2.0358 - mae: 2.4949\n",
            "Epoch 104/150\n",
            "25/25 [==============================] - 1s 37ms/step - loss: 1.9829 - mae: 2.4413\n",
            "Epoch 105/150\n",
            "25/25 [==============================] - 1s 38ms/step - loss: 1.8552 - mae: 2.3103\n",
            "Epoch 106/150\n",
            "25/25 [==============================] - 1s 36ms/step - loss: 1.9763 - mae: 2.4337\n",
            "Epoch 107/150\n",
            "25/25 [==============================] - 1s 37ms/step - loss: 2.0215 - mae: 2.4810\n",
            "Epoch 108/150\n",
            "25/25 [==============================] - 1s 38ms/step - loss: 1.9424 - mae: 2.3986\n",
            "Epoch 109/150\n",
            "25/25 [==============================] - 1s 38ms/step - loss: 1.8231 - mae: 2.2761\n",
            "Epoch 110/150\n",
            "25/25 [==============================] - 1s 37ms/step - loss: 1.9674 - mae: 2.4247\n",
            "Epoch 111/150\n",
            "25/25 [==============================] - 1s 38ms/step - loss: 1.9777 - mae: 2.4362\n",
            "Epoch 112/150\n",
            "25/25 [==============================] - 1s 37ms/step - loss: 1.8974 - mae: 2.3533\n",
            "Epoch 113/150\n",
            "25/25 [==============================] - 1s 38ms/step - loss: 1.9936 - mae: 2.4521\n",
            "Epoch 114/150\n",
            "25/25 [==============================] - 1s 38ms/step - loss: 1.9475 - mae: 2.4054\n",
            "Epoch 115/150\n",
            "25/25 [==============================] - 1s 37ms/step - loss: 1.9697 - mae: 2.4278\n",
            "Epoch 116/150\n",
            "25/25 [==============================] - 1s 38ms/step - loss: 1.9641 - mae: 2.4216\n",
            "Epoch 117/150\n",
            "25/25 [==============================] - 1s 38ms/step - loss: 1.9794 - mae: 2.4382\n",
            "Epoch 118/150\n",
            "25/25 [==============================] - 1s 36ms/step - loss: 1.9415 - mae: 2.3990\n",
            "Epoch 119/150\n",
            "25/25 [==============================] - 1s 37ms/step - loss: 1.9571 - mae: 2.4151\n",
            "Epoch 120/150\n",
            "25/25 [==============================] - 1s 37ms/step - loss: 1.9759 - mae: 2.4340\n",
            "Epoch 121/150\n",
            "25/25 [==============================] - 1s 38ms/step - loss: 1.8317 - mae: 2.2858\n",
            "Epoch 122/150\n",
            "25/25 [==============================] - 1s 37ms/step - loss: 1.9791 - mae: 2.4378\n",
            "Epoch 123/150\n",
            "25/25 [==============================] - 1s 37ms/step - loss: 1.9429 - mae: 2.4002\n",
            "Epoch 124/150\n",
            "25/25 [==============================] - 1s 38ms/step - loss: 1.8856 - mae: 2.3413\n",
            "Epoch 125/150\n",
            "25/25 [==============================] - 1s 36ms/step - loss: 1.9320 - mae: 2.3894\n",
            "Epoch 126/150\n",
            "25/25 [==============================] - 1s 37ms/step - loss: 1.9179 - mae: 2.3752\n",
            "Epoch 127/150\n",
            "25/25 [==============================] - 1s 37ms/step - loss: 1.9558 - mae: 2.4136\n",
            "Epoch 128/150\n",
            "25/25 [==============================] - 1s 37ms/step - loss: 1.9171 - mae: 2.3742\n",
            "Epoch 129/150\n",
            "25/25 [==============================] - 1s 38ms/step - loss: 1.9692 - mae: 2.4277\n",
            "Epoch 130/150\n",
            "25/25 [==============================] - 1s 37ms/step - loss: 1.9543 - mae: 2.4117\n",
            "Epoch 131/150\n",
            "25/25 [==============================] - 1s 37ms/step - loss: 1.9082 - mae: 2.3643\n",
            "Epoch 132/150\n",
            "25/25 [==============================] - 1s 38ms/step - loss: 1.9494 - mae: 2.4065\n",
            "Epoch 133/150\n",
            "25/25 [==============================] - 1s 38ms/step - loss: 1.9680 - mae: 2.4255\n",
            "Epoch 134/150\n",
            "25/25 [==============================] - 1s 36ms/step - loss: 1.8855 - mae: 2.3410\n",
            "Epoch 135/150\n",
            "25/25 [==============================] - 1s 37ms/step - loss: 1.8960 - mae: 2.3524\n",
            "Epoch 136/150\n",
            "25/25 [==============================] - 1s 38ms/step - loss: 1.9290 - mae: 2.3860\n",
            "Epoch 137/150\n",
            "25/25 [==============================] - 1s 38ms/step - loss: 1.9756 - mae: 2.4337\n",
            "Epoch 138/150\n",
            "25/25 [==============================] - 1s 36ms/step - loss: 1.9496 - mae: 2.4070\n",
            "Epoch 139/150\n",
            "25/25 [==============================] - 1s 37ms/step - loss: 1.9218 - mae: 2.3789\n",
            "Epoch 140/150\n",
            "25/25 [==============================] - 1s 37ms/step - loss: 1.8371 - mae: 2.2904\n",
            "Epoch 141/150\n",
            "25/25 [==============================] - 1s 37ms/step - loss: 2.0033 - mae: 2.4622\n",
            "Epoch 142/150\n",
            "25/25 [==============================] - 1s 38ms/step - loss: 1.8035 - mae: 2.2565\n",
            "Epoch 143/150\n",
            "25/25 [==============================] - 1s 38ms/step - loss: 1.9483 - mae: 2.4061\n",
            "Epoch 144/150\n",
            "25/25 [==============================] - 1s 39ms/step - loss: 1.8916 - mae: 2.3467\n",
            "Epoch 145/150\n",
            "25/25 [==============================] - 1s 37ms/step - loss: 1.9028 - mae: 2.3594\n",
            "Epoch 146/150\n",
            "25/25 [==============================] - 1s 38ms/step - loss: 1.8482 - mae: 2.3025\n",
            "Epoch 147/150\n",
            "25/25 [==============================] - 1s 37ms/step - loss: 1.8644 - mae: 2.3193\n",
            "Epoch 148/150\n",
            "25/25 [==============================] - 1s 37ms/step - loss: 1.9485 - mae: 2.4061\n",
            "Epoch 149/150\n",
            "25/25 [==============================] - 1s 37ms/step - loss: 1.8714 - mae: 2.3258\n",
            "Epoch 150/150\n",
            "25/25 [==============================] - 1s 37ms/step - loss: 1.8731 - mae: 2.3276\n"
          ]
        }
      ]
    },
    {
      "cell_type": "code",
      "metadata": {
        "id": "GaC6NNMRp0lb"
      },
      "source": [
        "rnn_forecast = model_forecast(model, series[..., np.newaxis], window_size)\n",
        "rnn_forecast = rnn_forecast[split_time - window_size:-1, -1, 0]"
      ],
      "execution_count": 38,
      "outputs": []
    },
    {
      "cell_type": "code",
      "metadata": {
        "id": "izy6wl2S9d-2",
        "outputId": "4948b0db-c6c8-4779-b2c9-7b5dc499f32e",
        "colab": {
          "base_uri": "https://localhost:8080/",
          "height": 389
        }
      },
      "source": [
        "plt.figure(figsize=(10, 6))\n",
        "plot_series(time_valid, x_valid)\n",
        "plot_series(time_valid, rnn_forecast)\n",
        "\n",
        "# EXPECTED OUTPUT. PLOT SHOULD SHOW PROJECTIONS FOLLOWING ORIGINAL DATA CLOSELY"
      ],
      "execution_count": 39,
      "outputs": [
        {
          "output_type": "display_data",
          "data": {
            "image/png": "[encoded data removed]",
            "text/plain": [
              "<Figure size 720x432 with 1 Axes>"
            ]
          },
          "metadata": {
            "needs_background": "light"
          }
        }
      ]
    },
    {
      "cell_type": "code",
      "metadata": {
        "id": "13XrorC5wQoE",
        "outputId": "f1ee08c9-016e-409a-f15f-7d8a37f02409",
        "colab": {
          "base_uri": "https://localhost:8080/"
        }
      },
      "source": [
        "tf.keras.metrics.mean_absolute_error(x_valid, rnn_forecast).numpy()\n",
        "\n",
        "# EXPECTED OUTPUT MAE < 2 -- I GOT 1.789626"
      ],
      "execution_count": 40,
      "outputs": [
        {
          "output_type": "execute_result",
          "data": {
            "text/plain": [
              "1.9674512"
            ]
          },
          "metadata": {},
          "execution_count": 40
        }
      ]
    },
    {
      "cell_type": "code",
      "metadata": {
        "id": "AOVzQXxCwkzP",
        "outputId": "dd609394-0eb1-424c-bdc3-8cbdf33d47c1",
        "colab": {
          "base_uri": "https://localhost:8080/"
        }
      },
      "source": [
        "print(rnn_forecast)\n",
        "# EXPECTED OUTPUT -- ARRAY OF VALUES IN THE LOW TEENS"
      ],
      "execution_count": 41,
      "outputs": [
        {
          "output_type": "stream",
          "name": "stdout",
          "text": [
            "[13.416046 12.936279 13.858599 ... 14.736146 14.644614 15.866679]\n"
          ]
        }
      ]
    }
  ]
}