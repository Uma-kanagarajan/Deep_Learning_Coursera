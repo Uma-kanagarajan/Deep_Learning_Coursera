{
  "nbformat": 4,
  "nbformat_minor": 0,
  "metadata": {
    "colab": {
      "name": "C2_W4_Assignment.ipynb",
      "provenance": [],
      "collapsed_sections": [],
      "toc_visible": true,
      "include_colab_link": true
    },
    "kernelspec": {
      "display_name": "Python 3",
      "language": "python",
      "name": "python3"
    },
    "language_info": {
      "codemirror_mode": {
        "name": "ipython",
        "version": 3
      },
      "file_extension": ".py",
      "mimetype": "text/x-python",
      "name": "python",
      "nbconvert_exporter": "python",
      "pygments_lexer": "ipython3",
      "version": "3.8.5"
    },
    "accelerator": "GPU"
  },
  "cells": [
    {
      "cell_type": "markdown",
      "metadata": {
        "id": "view-in-github",
        "colab_type": "text"
      },
      "source": [
        "<a href=\"https://colab.research.google.com/github/Uma-kanagarajan/Deep_Learning_Coursera/blob/main/C2/W4/assignment/C2_W4_Assignment.ipynb\" target=\"_parent\"><img src=\"https://colab.research.google.com/assets/colab-badge.svg\" alt=\"Open In Colab\"/></a>"
      ]
    },
    {
      "cell_type": "code",
      "metadata": {
        "id": "zX4Kg8DUTKWO"
      },
      "source": [
        "#@title Licensed under the Apache License, Version 2.0 (the \"License\");\n",
        "# you may not use this file except in compliance with the License.\n",
        "# You may obtain a copy of the License at\n",
        "#\n",
        "# https://www.apache.org/licenses/LICENSE-2.0\n",
        "#\n",
        "# Unless required by applicable law or agreed to in writing, software\n",
        "# distributed under the License is distributed on an \"AS IS\" BASIS,\n",
        "# WITHOUT WARRANTIES OR CONDITIONS OF ANY KIND, either express or implied.\n",
        "# See the License for the specific language governing permissions and\n",
        "# limitations under the License."
      ],
      "execution_count": 1,
      "outputs": []
    },
    {
      "cell_type": "markdown",
      "metadata": {
        "id": "KGYHjVbZHv1G"
      },
      "source": [
        "**IMPORTANT NOTE:** This notebook is designed to run as a Colab. Click the button on top that says, `Open in Colab`, to run this notebook as a Colab. Running the notebook on your local machine might result in some of the code blocks throwing errors."
      ]
    },
    {
      "cell_type": "code",
      "metadata": {
        "id": "wYtuKeK0dImp"
      },
      "source": [
        "import csv\n",
        "import numpy as np\n",
        "import tensorflow as tf\n",
        "from tensorflow.keras.preprocessing.image import ImageDataGenerator\n",
        "from google.colab import files"
      ],
      "execution_count": 2,
      "outputs": []
    },
    {
      "cell_type": "code",
      "metadata": {
        "id": "4kxw-_rmcnVu",
        "outputId": "180a2ddd-cad6-4cf5-fb31-a474743d5cfb",
        "colab": {
          "base_uri": "https://localhost:8080/"
        }
      },
      "source": [
        "# sign_mnist_train.csv\n",
        "!gdown --id 1z0DkA9BytlLxO1C0BAWzknLyQmZAp0HR\n",
        "# sign_mnist_test.csv\n",
        "!gdown --id 1z1BIj4qmri59GWBG4ivMNFtpZ4AXIbzg\n",
        "\n",
        "def get_data(filename):\n",
        "  # You will need to write code that will read the file passed\n",
        "  # into this function. The first line contains the column headers\n",
        "  # so you should ignore it\n",
        "  # Each successive line contians 785 comma separated values between 0 and 255\n",
        "  # The first value is the label\n",
        "  # The rest are the pixel values for that picture\n",
        "  # The function will return 2 np.array types. One with all the labels\n",
        "  # One with all the images\n",
        "  #\n",
        "  # Tips: \n",
        "  # If you read a full line (as 'row') then row[0] has the label\n",
        "  # and row[1:785] has the 784 pixel values\n",
        "  # Take a look at np.array_split to turn the 784 pixels into 28x28\n",
        "  # You are reading in strings, but need the values to be floats\n",
        "  # Check out np.array().astype for a conversion\n",
        "    with open(filename) as training_file:\n",
        "      ### START CODE HERE\n",
        "      reader = csv.reader(training_file, delimiter=',')\n",
        "      imgs = []\n",
        "      label_op = []\n",
        "      next(reader, None) #skip the header\n",
        "      for row in reader:\n",
        "          label = row[0]\n",
        "          pixels = row[1:]\n",
        "            \n",
        "          img = np.array(pixels).reshape(28,28)\n",
        "            \n",
        "          imgs.append(img)\n",
        "          label_op.append(label)\n",
        "            \n",
        "      images = np.array(imgs).astype(float)\n",
        "      labels = np.array(label_op).astype(float)\n",
        "\n",
        "\n",
        "      ### END CODE HERE\n",
        "    return images, labels\n",
        "\n",
        "\n",
        "training_images, training_labels = get_data('./sign_mnist_train.csv')\n",
        "testing_images, testing_labels = get_data('./sign_mnist_test.csv')\n",
        "\n",
        "# Keep these\n",
        "print(training_images.shape)\n",
        "print(training_labels.shape)\n",
        "print(testing_images.shape)\n",
        "print(testing_labels.shape)\n",
        "\n",
        "# Their output should be:\n",
        "# (27455, 28, 28)\n",
        "# (27455,)\n",
        "# (7172, 28, 28)\n",
        "# (7172,)"
      ],
      "execution_count": 3,
      "outputs": [
        {
          "output_type": "stream",
          "name": "stdout",
          "text": [
            "Downloading...\n",
            "From: https://drive.google.com/uc?id=1z0DkA9BytlLxO1C0BAWzknLyQmZAp0HR\n",
            "To: /content/sign_mnist_train.csv\n",
            "83.3MB [00:00, 147MB/s]\n",
            "Downloading...\n",
            "From: https://drive.google.com/uc?id=1z1BIj4qmri59GWBG4ivMNFtpZ4AXIbzg\n",
            "To: /content/sign_mnist_test.csv\n",
            "21.8MB [00:00, 102MB/s] \n",
            "(27455, 28, 28)\n",
            "(27455,)\n",
            "(7172, 28, 28)\n",
            "(7172,)\n"
          ]
        }
      ]
    },
    {
      "cell_type": "code",
      "metadata": {
        "id": "awoqRpyZdQkD",
        "outputId": "ac01cd35-2a43-4f47-82b8-8e6ba8592129",
        "colab": {
          "base_uri": "https://localhost:8080/"
        }
      },
      "source": [
        "# In this section you will have to add another dimension to the data\n",
        "# So, for example, if your array is (10000, 28, 28)\n",
        "# You will need to make it (10000, 28, 28, 1)\n",
        "# Hint: np.expand_dims\n",
        "\n",
        "training_images = np.expand_dims(training_images, axis=3)\n",
        "testing_images = np.expand_dims(testing_images, axis=3)\n",
        "\n",
        "train_datagen = ImageDataGenerator(\n",
        "    rescale = 1/255,\n",
        "    rotation_range = 40,\n",
        "    width_shift_range= 0.2,\n",
        "    height_shift_range= 0.2,\n",
        "    shear_range = 0.2, \n",
        "    zoom_range= 0.2,\n",
        "    horizontal_flip= True,\n",
        "    fill_mode= 'nearest'\n",
        "    )\n",
        "\n",
        "validation_datagen = ImageDataGenerator(\n",
        "    rescale = 1/255\n",
        "    )\n",
        "\n",
        "train_generator = train_datagen.flow(\n",
        "                                    training_images,\n",
        "                                    training_labels,\n",
        "                                    batch_size = 20)\n",
        "\n",
        "validation_generator = validation_datagen.flow(\n",
        "                                    testing_images,\n",
        "                                    testing_labels,\n",
        "                                    batch_size = 20)\n",
        "\n",
        "# Keep These\n",
        "print(training_images.shape)\n",
        "print(testing_images.shape)\n",
        "    \n",
        "# Their output should be:\n",
        "# (27455, 28, 28, 1)\n",
        "# (7172, 28, 28, 1)"
      ],
      "execution_count": 4,
      "outputs": [
        {
          "output_type": "stream",
          "name": "stdout",
          "text": [
            "(27455, 28, 28, 1)\n",
            "(7172, 28, 28, 1)\n"
          ]
        }
      ]
    },
    {
      "cell_type": "code",
      "metadata": {
        "id": "Rmb7S32cgRqS",
        "outputId": "3dcd59c4-fa07-41fa-bc98-8a030604a846",
        "colab": {
          "base_uri": "https://localhost:8080/"
        }
      },
      "source": [
        "# Define the model\n",
        "# Use no more than 2 Conv2D and 2 MaxPooling2D\n",
        "model = tf.keras.models.Sequential([\n",
        "    ### START CODE HERE                                \n",
        "    tf.keras.layers.Conv2D(32, (3,3), activation='relu', input_shape=(28,28,1)),\n",
        "    tf.keras.layers.MaxPooling2D(2,2),\n",
        "    tf.keras.layers.Conv2D(32, (3,3), activation='relu'),\n",
        "    tf.keras.layers.MaxPooling2D(2,2),\n",
        "    tf.keras.layers.Flatten(),\n",
        "    tf.keras.layers.Dense(512, activation='relu'),\n",
        "    tf.keras.layers.Dense(26, activation='softmax')\n",
        "    \n",
        "    ### END CODE HERE\n",
        "])\n",
        "\n",
        "model.compile(optimizer = 'adam',\n",
        "             loss = 'sparse_categorical_crossentropy',\n",
        "             metrics=['accuracy'])\n",
        "\n",
        "history = model.fit(train_generator, \n",
        "    epochs=20,\n",
        "    validation_data = validation_generator)\n",
        "\n",
        "model.evaluate(testing_images, testing_labels)\n",
        "\n",
        "# The output from model.evaluate should be close to:\n",
        "# [6.92426086682151, 0.56609035]\n"
      ],
      "execution_count": 6,
      "outputs": [
        {
          "output_type": "stream",
          "name": "stdout",
          "text": [
            "Epoch 1/20\n",
            "1373/1373 [==============================] - 51s 14ms/step - loss: 2.5727 - accuracy: 0.2090 - val_loss: 1.5637 - val_accuracy: 0.4463\n",
            "Epoch 2/20\n",
            "1373/1373 [==============================] - 19s 14ms/step - loss: 1.7506 - accuracy: 0.4369 - val_loss: 1.1614 - val_accuracy: 0.5873\n",
            "Epoch 3/20\n",
            "1373/1373 [==============================] - 19s 14ms/step - loss: 1.3440 - accuracy: 0.5552 - val_loss: 0.8788 - val_accuracy: 0.6811\n",
            "Epoch 4/20\n",
            "1373/1373 [==============================] - 19s 14ms/step - loss: 1.1161 - accuracy: 0.6344 - val_loss: 0.6627 - val_accuracy: 0.7644\n",
            "Epoch 5/20\n",
            "1373/1373 [==============================] - 19s 14ms/step - loss: 0.9453 - accuracy: 0.6844 - val_loss: 0.5664 - val_accuracy: 0.7917\n",
            "Epoch 6/20\n",
            "1373/1373 [==============================] - 19s 14ms/step - loss: 0.8294 - accuracy: 0.7229 - val_loss: 0.5238 - val_accuracy: 0.8166\n",
            "Epoch 7/20\n",
            "1373/1373 [==============================] - 19s 14ms/step - loss: 0.7337 - accuracy: 0.7557 - val_loss: 0.3697 - val_accuracy: 0.8716\n",
            "Epoch 8/20\n",
            "1373/1373 [==============================] - 19s 14ms/step - loss: 0.6811 - accuracy: 0.7722 - val_loss: 0.3972 - val_accuracy: 0.8493\n",
            "Epoch 9/20\n",
            "1373/1373 [==============================] - 19s 14ms/step - loss: 0.6221 - accuracy: 0.7918 - val_loss: 0.4094 - val_accuracy: 0.8410\n",
            "Epoch 10/20\n",
            "1373/1373 [==============================] - 19s 14ms/step - loss: 0.5764 - accuracy: 0.8065 - val_loss: 0.4098 - val_accuracy: 0.8551\n",
            "Epoch 11/20\n",
            "1373/1373 [==============================] - 20s 14ms/step - loss: 0.5430 - accuracy: 0.8205 - val_loss: 0.2263 - val_accuracy: 0.9193\n",
            "Epoch 12/20\n",
            "1373/1373 [==============================] - 19s 14ms/step - loss: 0.5135 - accuracy: 0.8295 - val_loss: 0.3433 - val_accuracy: 0.8890\n",
            "Epoch 13/20\n",
            "1373/1373 [==============================] - 19s 14ms/step - loss: 0.4794 - accuracy: 0.8386 - val_loss: 0.2052 - val_accuracy: 0.9248\n",
            "Epoch 14/20\n",
            "1373/1373 [==============================] - 19s 14ms/step - loss: 0.4555 - accuracy: 0.8477 - val_loss: 0.2216 - val_accuracy: 0.9124\n",
            "Epoch 15/20\n",
            "1373/1373 [==============================] - 19s 14ms/step - loss: 0.4470 - accuracy: 0.8488 - val_loss: 0.2585 - val_accuracy: 0.9095\n",
            "Epoch 16/20\n",
            "1373/1373 [==============================] - 19s 14ms/step - loss: 0.4241 - accuracy: 0.8556 - val_loss: 0.1930 - val_accuracy: 0.9340\n",
            "Epoch 17/20\n",
            "1373/1373 [==============================] - 20s 14ms/step - loss: 0.4120 - accuracy: 0.8611 - val_loss: 0.1458 - val_accuracy: 0.9506\n",
            "Epoch 18/20\n",
            "1373/1373 [==============================] - 19s 14ms/step - loss: 0.3960 - accuracy: 0.8688 - val_loss: 0.1803 - val_accuracy: 0.9296\n",
            "Epoch 19/20\n",
            "1373/1373 [==============================] - 19s 14ms/step - loss: 0.3656 - accuracy: 0.8775 - val_loss: 0.2044 - val_accuracy: 0.9304\n",
            "Epoch 20/20\n",
            "1373/1373 [==============================] - 19s 14ms/step - loss: 0.3636 - accuracy: 0.8791 - val_loss: 0.1551 - val_accuracy: 0.9399\n",
            "225/225 [==============================] - 1s 4ms/step - loss: 194.8720 - accuracy: 0.6732\n"
          ]
        },
        {
          "output_type": "execute_result",
          "data": {
            "text/plain": [
              "[194.87197875976562, 0.6731734275817871]"
            ]
          },
          "metadata": {},
          "execution_count": 6
        }
      ]
    },
    {
      "cell_type": "code",
      "metadata": {
        "id": "_Q3Zpr46dsij",
        "outputId": "eff57f2c-3e4b-4827-9f15-f7798a46e90c",
        "colab": {
          "base_uri": "https://localhost:8080/",
          "height": 545
        }
      },
      "source": [
        "# Plot the chart for accuracy and loss on both training and validation\n",
        "\n",
        "import matplotlib.pyplot as plt\n",
        "acc = history.history['accuracy']\n",
        "val_acc = history.history['val_accuracy']\n",
        "loss = history.history['loss']\n",
        "val_loss = history.history['val_loss']\n",
        "\n",
        "epochs = range(len(acc))\n",
        "\n",
        "plt.plot(epochs, acc, 'r', label='Training accuracy')\n",
        "plt.plot(epochs, val_acc, 'b', label='Validation accuracy')\n",
        "plt.title('Training and validation accuracy')\n",
        "plt.legend()\n",
        "plt.figure()\n",
        "\n",
        "plt.plot(epochs, loss, 'r', label='Training Loss')\n",
        "plt.plot(epochs, val_loss, 'b', label='Validation Loss')\n",
        "plt.title('Training and validation loss')\n",
        "plt.legend()\n",
        "\n",
        "plt.show()"
      ],
      "execution_count": 7,
      "outputs": [
        {
          "output_type": "display_data",
          "data": {
            "image/png": "[encoded data removed]",
            "text/plain": [
              "<Figure size 432x288 with 1 Axes>"
            ]
          },
          "metadata": {
            "needs_background": "light"
          }
        },
        {
          "output_type": "display_data",
          "data": {
            "image/png": "[encoded data removed]",
            "text/plain": [
              "<Figure size 432x288 with 1 Axes>"
            ]
          },
          "metadata": {
            "needs_background": "light"
          }
        }
      ]
    },
    {
      "cell_type": "code",
      "metadata": {
        "id": "LkHG3jmVmUMZ"
      },
      "source": [
        ""
      ],
      "execution_count": null,
      "outputs": []
    }
  ]
}