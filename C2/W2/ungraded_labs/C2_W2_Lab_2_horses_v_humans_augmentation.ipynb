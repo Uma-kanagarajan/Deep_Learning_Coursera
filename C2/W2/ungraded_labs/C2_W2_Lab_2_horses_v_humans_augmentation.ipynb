{
  "nbformat": 4,
  "nbformat_minor": 0,
  "metadata": {
    "accelerator": "GPU",
    "colab": {
      "name": "C2_W2_Lab_2_horses_v_humans_augmentation.ipynb",
      "provenance": [],
      "collapsed_sections": [],
      "toc_visible": true,
      "include_colab_link": true
    },
    "kernelspec": {
      "display_name": "Python 3",
      "language": "python",
      "name": "python3"
    },
    "language_info": {
      "codemirror_mode": {
        "name": "ipython",
        "version": 3
      },
      "file_extension": ".py",
      "mimetype": "text/x-python",
      "name": "python",
      "nbconvert_exporter": "python",
      "pygments_lexer": "ipython3",
      "version": "3.8.5"
    }
  },
  "cells": [
    {
      "cell_type": "markdown",
      "metadata": {
        "id": "view-in-github",
        "colab_type": "text"
      },
      "source": [
        "<a href=\"https://colab.research.google.com/github/Uma-kanagarajan/Deep_Learning_Coursera/blob/main/C2/W2/ungraded_labs/C2_W2_Lab_2_horses_v_humans_augmentation.ipynb\" target=\"_parent\"><img src=\"https://colab.research.google.com/assets/colab-badge.svg\" alt=\"Open In Colab\"/></a>"
      ]
    },
    {
      "cell_type": "markdown",
      "metadata": {
        "id": "rX8mhOLljYeM"
      },
      "source": [
        "##### Copyright 2019 The TensorFlow Authors."
      ]
    },
    {
      "cell_type": "code",
      "metadata": {
        "cellView": "form",
        "id": "BZSlp3DAjdYf"
      },
      "source": [
        "#@title Licensed under the Apache License, Version 2.0 (the \"License\");\n",
        "# you may not use this file except in compliance with the License.\n",
        "# You may obtain a copy of the License at\n",
        "#\n",
        "# https://www.apache.org/licenses/LICENSE-2.0\n",
        "#\n",
        "# Unless required by applicable law or agreed to in writing, software\n",
        "# distributed under the License is distributed on an \"AS IS\" BASIS,\n",
        "# WITHOUT WARRANTIES OR CONDITIONS OF ANY KIND, either express or implied.\n",
        "# See the License for the specific language governing permissions and\n",
        "# limitations under the License."
      ],
      "execution_count": null,
      "outputs": []
    },
    {
      "cell_type": "code",
      "metadata": {
        "id": "RXZT2UsyIVe_",
        "outputId": "99af811e-fa68-4898-ac10-73f914b9e7e6",
        "colab": {
          "base_uri": "https://localhost:8080/"
        }
      },
      "source": [
        "# horses-or-humans dataset\n",
        "!gdown --id 1onaG42NZft3wCE1WH0GDEbUhu75fedP5\n",
        "\n",
        "# horses-or-humans validation dataset\n",
        "!gdown --id 1LYeusSEIiZQpwN-mthh5nKdA75VsKG1U\n",
        "  \n",
        "import os\n",
        "import zipfile\n",
        "\n",
        "zip_ref = zipfile.ZipFile('./horse-or-human.zip', 'r')\n",
        "zip_ref.extractall('tmp/horse-or-human')\n",
        "\n",
        "zip_ref = zipfile.ZipFile('./validation-horse-or-human.zip', 'r')\n",
        "zip_ref.extractall('tmp/validation-horse-or-human')\n",
        "\n",
        "zip_ref.close()\n",
        "\n",
        "# Directory with our training horse pictures\n",
        "train_horse_dir = os.path.join('tmp/horse-or-human/horses')\n",
        "\n",
        "# Directory with our training human pictures\n",
        "train_human_dir = os.path.join('tmp/horse-or-human/humans')\n",
        "\n",
        "# Directory with our training horse pictures\n",
        "validation_horse_dir = os.path.join('tmp/validation-horse-or-human/horses')\n",
        "\n",
        "# Directory with our training human pictures\n",
        "validation_human_dir = os.path.join('tmp/validation-horse-or-human/humans')"
      ],
      "execution_count": 1,
      "outputs": [
        {
          "output_type": "stream",
          "name": "stdout",
          "text": [
            "Downloading...\n",
            "From: https://drive.google.com/uc?id=1onaG42NZft3wCE1WH0GDEbUhu75fedP5\n",
            "To: /content/horse-or-human.zip\n",
            "150MB [00:01, 114MB/s]\n",
            "Downloading...\n",
            "From: https://drive.google.com/uc?id=1LYeusSEIiZQpwN-mthh5nKdA75VsKG1U\n",
            "To: /content/validation-horse-or-human.zip\n",
            "11.5MB [00:00, 101MB/s]\n"
          ]
        }
      ]
    },
    {
      "cell_type": "markdown",
      "metadata": {
        "id": "5oqBkNBJmtUv"
      },
      "source": [
        "## Building a Small Model from Scratch\n",
        "\n",
        "But before we continue, let's start defining the model:\n",
        "\n",
        "Step 1 will be to import tensorflow."
      ]
    },
    {
      "cell_type": "code",
      "metadata": {
        "id": "qvfZg3LQbD-5"
      },
      "source": [
        "import tensorflow as tf"
      ],
      "execution_count": 2,
      "outputs": []
    },
    {
      "cell_type": "markdown",
      "metadata": {
        "id": "BnhYCP4tdqjC"
      },
      "source": [
        "We then add convolutional layers as in the previous example, and flatten the final result to feed into the densely connected layers."
      ]
    },
    {
      "cell_type": "markdown",
      "metadata": {
        "id": "gokG5HKpdtzm"
      },
      "source": [
        "Finally we add the densely connected layers. \n",
        "\n",
        "Note that because we are facing a two-class classification problem, i.e. a *binary classification problem*, we will end our network with a [*sigmoid* activation](https://wikipedia.org/wiki/Sigmoid_function), so that the output of our network will be a single scalar between 0 and 1, encoding the probability that the current image is class 1 (as opposed to class 0)."
      ]
    },
    {
      "cell_type": "code",
      "metadata": {
        "id": "PixZ2s5QbYQ3"
      },
      "source": [
        "model = tf.keras.models.Sequential([\n",
        "    # Note the input shape is the desired size of the image 300x300 with 3 bytes color\n",
        "    # This is the first convolution\n",
        "    tf.keras.layers.Conv2D(16, (3,3), activation='relu', input_shape=(300, 300, 3)),\n",
        "    tf.keras.layers.MaxPooling2D(2, 2),\n",
        "    # The second convolution\n",
        "    tf.keras.layers.Conv2D(32, (3,3), activation='relu'),\n",
        "    tf.keras.layers.MaxPooling2D(2,2),\n",
        "    # The third convolution\n",
        "    tf.keras.layers.Conv2D(64, (3,3), activation='relu'),\n",
        "    tf.keras.layers.MaxPooling2D(2,2),\n",
        "    # The fourth convolution\n",
        "    tf.keras.layers.Conv2D(64, (3,3), activation='relu'),\n",
        "    tf.keras.layers.MaxPooling2D(2,2),\n",
        "    # The fifth convolution\n",
        "    tf.keras.layers.Conv2D(64, (3,3), activation='relu'),\n",
        "    tf.keras.layers.MaxPooling2D(2,2),\n",
        "    # Flatten the results to feed into a DNN\n",
        "    tf.keras.layers.Flatten(),\n",
        "    # 512 neuron hidden layer\n",
        "    tf.keras.layers.Dense(512, activation='relu'),\n",
        "    # Only 1 output neuron. It will contain a value from 0-1 where 0 for 1 class ('horses') and 1 for the other ('humans')\n",
        "    tf.keras.layers.Dense(1, activation='sigmoid')\n",
        "])"
      ],
      "execution_count": 3,
      "outputs": []
    },
    {
      "cell_type": "code",
      "metadata": {
        "id": "8DHWhFP_uhq3"
      },
      "source": [
        "from tensorflow.keras.optimizers import RMSprop\n",
        "\n",
        "model.compile(loss='binary_crossentropy',\n",
        "              optimizer=RMSprop(learning_rate=1e-4),\n",
        "              metrics=['accuracy'])"
      ],
      "execution_count": 4,
      "outputs": []
    },
    {
      "cell_type": "code",
      "metadata": {
        "id": "ClebU9NJg99G",
        "outputId": "529b4457-29c7-4ef7-ea3e-ea0cd2cdd7f8",
        "colab": {
          "base_uri": "https://localhost:8080/"
        }
      },
      "source": [
        "from tensorflow.keras.preprocessing.image import ImageDataGenerator\n",
        "\n",
        "# All images will be rescaled by 1./255\n",
        "train_datagen = ImageDataGenerator(\n",
        "      rescale=1./255,\n",
        "      rotation_range=40,\n",
        "      width_shift_range=0.2,\n",
        "      height_shift_range=0.2,\n",
        "      shear_range=0.2,\n",
        "      zoom_range=0.2,\n",
        "      horizontal_flip=True,\n",
        "      fill_mode='nearest')\n",
        "\n",
        "validation_datagen = ImageDataGenerator(rescale=1/255)\n",
        "\n",
        "# Flow training images in batches of 128 using train_datagen generator\n",
        "train_generator = train_datagen.flow_from_directory(\n",
        "        'tmp/horse-or-human/',  # This is the source directory for training images\n",
        "        target_size=(300, 300),  # All images will be resized to 150x150\n",
        "        batch_size=128,\n",
        "        # Since we use binary_crossentropy loss, we need binary labels\n",
        "        class_mode='binary')\n",
        "\n",
        "# Flow training images in batches of 128 using train_datagen generator\n",
        "validation_generator = validation_datagen.flow_from_directory(\n",
        "        'tmp/validation-horse-or-human/',  # This is the source directory for training images\n",
        "        target_size=(300, 300),  # All images will be resized to 150x150\n",
        "        batch_size=32,\n",
        "        # Since we use binary_crossentropy loss, we need binary labels\n",
        "        class_mode='binary')"
      ],
      "execution_count": 5,
      "outputs": [
        {
          "metadata": {
            "tags": null
          },
          "name": "stdout",
          "output_type": "stream",
          "text": [
            "Found 1027 images belonging to 2 classes.\n",
            "Found 256 images belonging to 2 classes.\n"
          ]
        }
      ]
    },
    {
      "cell_type": "code",
      "metadata": {
        "id": "Fb1_lgobv81m",
        "outputId": "f7c42d9b-bebf-4a63-ed9a-6f1c5edee75d",
        "colab": {
          "base_uri": "https://localhost:8080/"
        }
      },
      "source": [
        "history = model.fit(\n",
        "      train_generator,\n",
        "      steps_per_epoch=8,  \n",
        "      epochs=100,\n",
        "      verbose=1,\n",
        "      validation_data = validation_generator,\n",
        "      validation_steps=8)"
      ],
      "execution_count": 6,
      "outputs": [
        {
          "metadata": {
            "tags": null
          },
          "name": "stdout",
          "output_type": "stream",
          "text": [
            "Epoch 1/100\n",
            "8/8 [==============================] - 55s 3s/step - loss: 0.6929 - accuracy: 0.5217 - val_loss: 0.6804 - val_accuracy: 0.6719\n",
            "Epoch 2/100\n",
            "8/8 [==============================] - 24s 3s/step - loss: 0.6751 - accuracy: 0.6285 - val_loss: 0.6810 - val_accuracy: 0.5000\n",
            "Epoch 3/100\n",
            "8/8 [==============================] - 24s 3s/step - loss: 0.6487 - accuracy: 0.6885 - val_loss: 0.7166 - val_accuracy: 0.5039\n",
            "Epoch 4/100\n",
            "8/8 [==============================] - 23s 3s/step - loss: 0.5924 - accuracy: 0.7375 - val_loss: 0.5514 - val_accuracy: 0.8242\n",
            "Epoch 5/100\n",
            "8/8 [==============================] - 24s 3s/step - loss: 0.5705 - accuracy: 0.7275 - val_loss: 1.1378 - val_accuracy: 0.5000\n",
            "Epoch 6/100\n",
            "8/8 [==============================] - 24s 3s/step - loss: 0.5454 - accuracy: 0.7264 - val_loss: 1.0086 - val_accuracy: 0.5234\n",
            "Epoch 7/100\n",
            "8/8 [==============================] - 24s 3s/step - loss: 0.5689 - accuracy: 0.7052 - val_loss: 0.6836 - val_accuracy: 0.6211\n",
            "Epoch 8/100\n",
            "8/8 [==============================] - 24s 3s/step - loss: 0.5097 - accuracy: 0.7631 - val_loss: 0.8528 - val_accuracy: 0.5781\n",
            "Epoch 9/100\n",
            "8/8 [==============================] - 24s 3s/step - loss: 0.4707 - accuracy: 0.7853 - val_loss: 0.9408 - val_accuracy: 0.5898\n",
            "Epoch 10/100\n",
            "8/8 [==============================] - 24s 3s/step - loss: 0.4836 - accuracy: 0.7631 - val_loss: 0.9824 - val_accuracy: 0.5938\n",
            "Epoch 11/100\n",
            "8/8 [==============================] - 24s 3s/step - loss: 0.4753 - accuracy: 0.7597 - val_loss: 0.8249 - val_accuracy: 0.6719\n",
            "Epoch 12/100\n",
            "8/8 [==============================] - 24s 3s/step - loss: 0.4947 - accuracy: 0.7620 - val_loss: 1.0834 - val_accuracy: 0.5938\n",
            "Epoch 13/100\n",
            "8/8 [==============================] - 24s 3s/step - loss: 0.4431 - accuracy: 0.8020 - val_loss: 1.1334 - val_accuracy: 0.6016\n",
            "Epoch 14/100\n",
            "8/8 [==============================] - 24s 3s/step - loss: 0.4598 - accuracy: 0.7764 - val_loss: 1.0643 - val_accuracy: 0.6445\n",
            "Epoch 15/100\n",
            "8/8 [==============================] - 24s 3s/step - loss: 0.4374 - accuracy: 0.8120 - val_loss: 1.2292 - val_accuracy: 0.6328\n",
            "Epoch 16/100\n",
            "8/8 [==============================] - 26s 3s/step - loss: 0.3954 - accuracy: 0.8291 - val_loss: 1.1307 - val_accuracy: 0.6602\n",
            "Epoch 17/100\n",
            "8/8 [==============================] - 26s 3s/step - loss: 0.3923 - accuracy: 0.8301 - val_loss: 1.1019 - val_accuracy: 0.6719\n",
            "Epoch 18/100\n",
            "8/8 [==============================] - 24s 3s/step - loss: 0.4061 - accuracy: 0.8198 - val_loss: 1.4771 - val_accuracy: 0.6133\n",
            "Epoch 19/100\n",
            "8/8 [==============================] - 24s 3s/step - loss: 0.4252 - accuracy: 0.7976 - val_loss: 1.2899 - val_accuracy: 0.6172\n",
            "Epoch 20/100\n",
            "8/8 [==============================] - 24s 3s/step - loss: 0.4280 - accuracy: 0.8031 - val_loss: 1.1342 - val_accuracy: 0.6406\n",
            "Epoch 21/100\n",
            "8/8 [==============================] - 24s 3s/step - loss: 0.3540 - accuracy: 0.8498 - val_loss: 1.4160 - val_accuracy: 0.6328\n",
            "Epoch 22/100\n",
            "8/8 [==============================] - 24s 3s/step - loss: 0.3845 - accuracy: 0.8309 - val_loss: 1.2447 - val_accuracy: 0.6602\n",
            "Epoch 23/100\n",
            "8/8 [==============================] - 24s 3s/step - loss: 0.3642 - accuracy: 0.8409 - val_loss: 1.4657 - val_accuracy: 0.6289\n",
            "Epoch 24/100\n",
            "8/8 [==============================] - 24s 3s/step - loss: 0.3576 - accuracy: 0.8509 - val_loss: 0.7615 - val_accuracy: 0.7812\n",
            "Epoch 25/100\n",
            "8/8 [==============================] - 24s 3s/step - loss: 0.3785 - accuracy: 0.8231 - val_loss: 1.8607 - val_accuracy: 0.6133\n",
            "Epoch 26/100\n",
            "8/8 [==============================] - 24s 3s/step - loss: 0.3871 - accuracy: 0.8220 - val_loss: 1.3891 - val_accuracy: 0.6406\n",
            "Epoch 27/100\n",
            "8/8 [==============================] - 23s 3s/step - loss: 0.3414 - accuracy: 0.8509 - val_loss: 1.4849 - val_accuracy: 0.6289\n",
            "Epoch 28/100\n",
            "8/8 [==============================] - 24s 3s/step - loss: 0.3465 - accuracy: 0.8543 - val_loss: 1.3065 - val_accuracy: 0.6602\n",
            "Epoch 29/100\n",
            "8/8 [==============================] - 23s 3s/step - loss: 0.3063 - accuracy: 0.8643 - val_loss: 1.6017 - val_accuracy: 0.6211\n",
            "Epoch 30/100\n",
            "8/8 [==============================] - 23s 3s/step - loss: 0.3158 - accuracy: 0.8788 - val_loss: 1.4108 - val_accuracy: 0.6602\n",
            "Epoch 31/100\n",
            "8/8 [==============================] - 24s 3s/step - loss: 0.2877 - accuracy: 0.8754 - val_loss: 2.0477 - val_accuracy: 0.6133\n",
            "Epoch 32/100\n",
            "8/8 [==============================] - 24s 3s/step - loss: 0.2979 - accuracy: 0.8643 - val_loss: 2.1551 - val_accuracy: 0.6094\n",
            "Epoch 33/100\n",
            "8/8 [==============================] - 24s 3s/step - loss: 0.3230 - accuracy: 0.8465 - val_loss: 1.7413 - val_accuracy: 0.6367\n",
            "Epoch 34/100\n",
            "8/8 [==============================] - 23s 3s/step - loss: 0.2882 - accuracy: 0.8765 - val_loss: 3.1031 - val_accuracy: 0.5430\n",
            "Epoch 35/100\n",
            "8/8 [==============================] - 26s 3s/step - loss: 0.2846 - accuracy: 0.8867 - val_loss: 1.9083 - val_accuracy: 0.6406\n",
            "Epoch 36/100\n",
            "8/8 [==============================] - 24s 3s/step - loss: 0.2595 - accuracy: 0.8799 - val_loss: 1.8506 - val_accuracy: 0.6641\n",
            "Epoch 37/100\n",
            "8/8 [==============================] - 24s 3s/step - loss: 0.2377 - accuracy: 0.9088 - val_loss: 1.7921 - val_accuracy: 0.6758\n",
            "Epoch 38/100\n",
            "8/8 [==============================] - 24s 3s/step - loss: 0.3477 - accuracy: 0.8654 - val_loss: 2.0130 - val_accuracy: 0.6328\n",
            "Epoch 39/100\n",
            "8/8 [==============================] - 27s 3s/step - loss: 0.2391 - accuracy: 0.9043 - val_loss: 1.8683 - val_accuracy: 0.6719\n",
            "Epoch 40/100\n",
            "8/8 [==============================] - 24s 3s/step - loss: 0.2429 - accuracy: 0.8877 - val_loss: 1.8867 - val_accuracy: 0.6758\n",
            "Epoch 41/100\n",
            "8/8 [==============================] - 26s 3s/step - loss: 0.2345 - accuracy: 0.9043 - val_loss: 2.5466 - val_accuracy: 0.6172\n",
            "Epoch 42/100\n",
            "8/8 [==============================] - 23s 3s/step - loss: 0.2589 - accuracy: 0.8821 - val_loss: 2.3211 - val_accuracy: 0.6211\n",
            "Epoch 43/100\n",
            "8/8 [==============================] - 24s 3s/step - loss: 0.2162 - accuracy: 0.9099 - val_loss: 2.3748 - val_accuracy: 0.6367\n",
            "Epoch 44/100\n",
            "8/8 [==============================] - 24s 3s/step - loss: 0.2678 - accuracy: 0.8854 - val_loss: 2.1465 - val_accuracy: 0.6445\n",
            "Epoch 45/100\n",
            "8/8 [==============================] - 24s 3s/step - loss: 0.1973 - accuracy: 0.9288 - val_loss: 2.0230 - val_accuracy: 0.6719\n",
            "Epoch 46/100\n",
            "8/8 [==============================] - 24s 3s/step - loss: 0.2308 - accuracy: 0.9110 - val_loss: 2.8608 - val_accuracy: 0.6055\n",
            "Epoch 47/100\n",
            "8/8 [==============================] - 24s 3s/step - loss: 0.2422 - accuracy: 0.9032 - val_loss: 2.9891 - val_accuracy: 0.6016\n",
            "Epoch 48/100\n",
            "8/8 [==============================] - 24s 3s/step - loss: 0.2078 - accuracy: 0.9055 - val_loss: 2.0871 - val_accuracy: 0.6758\n",
            "Epoch 49/100\n",
            "8/8 [==============================] - 26s 3s/step - loss: 0.1934 - accuracy: 0.9229 - val_loss: 3.6930 - val_accuracy: 0.5820\n",
            "Epoch 50/100\n",
            "8/8 [==============================] - 24s 3s/step - loss: 0.2281 - accuracy: 0.9055 - val_loss: 2.2521 - val_accuracy: 0.6680\n",
            "Epoch 51/100\n",
            "8/8 [==============================] - 24s 3s/step - loss: 0.2364 - accuracy: 0.9021 - val_loss: 2.7894 - val_accuracy: 0.6172\n",
            "Epoch 52/100\n",
            "8/8 [==============================] - 24s 3s/step - loss: 0.3049 - accuracy: 0.8877 - val_loss: 3.0348 - val_accuracy: 0.6016\n",
            "Epoch 53/100\n",
            "8/8 [==============================] - 24s 3s/step - loss: 0.2058 - accuracy: 0.9088 - val_loss: 3.2962 - val_accuracy: 0.6016\n",
            "Epoch 54/100\n",
            "8/8 [==============================] - 24s 3s/step - loss: 0.2646 - accuracy: 0.8921 - val_loss: 2.3195 - val_accuracy: 0.6445\n",
            "Epoch 55/100\n",
            "8/8 [==============================] - 24s 3s/step - loss: 0.1756 - accuracy: 0.9321 - val_loss: 2.5187 - val_accuracy: 0.6406\n",
            "Epoch 56/100\n",
            "8/8 [==============================] - 24s 3s/step - loss: 0.1851 - accuracy: 0.9277 - val_loss: 2.9895 - val_accuracy: 0.6094\n",
            "Epoch 57/100\n",
            "8/8 [==============================] - 24s 3s/step - loss: 0.2082 - accuracy: 0.9110 - val_loss: 1.7015 - val_accuracy: 0.7109\n",
            "Epoch 58/100\n",
            "8/8 [==============================] - 24s 3s/step - loss: 0.1720 - accuracy: 0.9355 - val_loss: 2.1996 - val_accuracy: 0.6797\n",
            "Epoch 59/100\n",
            "8/8 [==============================] - 27s 3s/step - loss: 0.1998 - accuracy: 0.9170 - val_loss: 2.5603 - val_accuracy: 0.6445\n",
            "Epoch 60/100\n",
            "8/8 [==============================] - 24s 3s/step - loss: 0.1858 - accuracy: 0.9221 - val_loss: 2.3888 - val_accuracy: 0.6523\n",
            "Epoch 61/100\n",
            "8/8 [==============================] - 24s 3s/step - loss: 0.1549 - accuracy: 0.9444 - val_loss: 2.8414 - val_accuracy: 0.6445\n",
            "Epoch 62/100\n",
            "8/8 [==============================] - 24s 3s/step - loss: 0.1908 - accuracy: 0.9255 - val_loss: 2.8764 - val_accuracy: 0.6445\n",
            "Epoch 63/100\n",
            "8/8 [==============================] - 26s 3s/step - loss: 0.1565 - accuracy: 0.9365 - val_loss: 3.2218 - val_accuracy: 0.6250\n",
            "Epoch 64/100\n",
            "8/8 [==============================] - 25s 3s/step - loss: 0.1711 - accuracy: 0.9255 - val_loss: 4.9144 - val_accuracy: 0.5508\n",
            "Epoch 65/100\n",
            "8/8 [==============================] - 24s 3s/step - loss: 0.1989 - accuracy: 0.9177 - val_loss: 3.5530 - val_accuracy: 0.6055\n",
            "Epoch 66/100\n",
            "8/8 [==============================] - 24s 3s/step - loss: 0.2029 - accuracy: 0.9155 - val_loss: 2.9650 - val_accuracy: 0.6289\n",
            "Epoch 67/100\n",
            "8/8 [==============================] - 24s 3s/step - loss: 0.1625 - accuracy: 0.9399 - val_loss: 4.7023 - val_accuracy: 0.5625\n",
            "Epoch 68/100\n",
            "8/8 [==============================] - 24s 3s/step - loss: 0.1714 - accuracy: 0.9310 - val_loss: 4.3522 - val_accuracy: 0.5820\n",
            "Epoch 69/100\n",
            "8/8 [==============================] - 24s 3s/step - loss: 0.1524 - accuracy: 0.9399 - val_loss: 2.9077 - val_accuracy: 0.6602\n",
            "Epoch 70/100\n",
            "8/8 [==============================] - 24s 3s/step - loss: 0.1770 - accuracy: 0.9321 - val_loss: 6.4309 - val_accuracy: 0.5117\n",
            "Epoch 71/100\n",
            "8/8 [==============================] - 24s 3s/step - loss: 0.2335 - accuracy: 0.9143 - val_loss: 2.7230 - val_accuracy: 0.6680\n",
            "Epoch 72/100\n",
            "8/8 [==============================] - 24s 3s/step - loss: 0.1439 - accuracy: 0.9433 - val_loss: 3.5292 - val_accuracy: 0.6289\n",
            "Epoch 73/100\n",
            "8/8 [==============================] - 26s 3s/step - loss: 0.1395 - accuracy: 0.9453 - val_loss: 2.3308 - val_accuracy: 0.6953\n",
            "Epoch 74/100\n",
            "8/8 [==============================] - 24s 3s/step - loss: 0.1861 - accuracy: 0.9221 - val_loss: 3.1529 - val_accuracy: 0.6328\n",
            "Epoch 75/100\n",
            "8/8 [==============================] - 24s 3s/step - loss: 0.1453 - accuracy: 0.9466 - val_loss: 2.8985 - val_accuracy: 0.6602\n",
            "Epoch 76/100\n",
            "8/8 [==============================] - 24s 3s/step - loss: 0.1341 - accuracy: 0.9522 - val_loss: 3.0175 - val_accuracy: 0.6641\n",
            "Epoch 77/100\n",
            "8/8 [==============================] - 24s 3s/step - loss: 0.2273 - accuracy: 0.9010 - val_loss: 2.8771 - val_accuracy: 0.6641\n",
            "Epoch 78/100\n",
            "8/8 [==============================] - 24s 3s/step - loss: 0.1234 - accuracy: 0.9544 - val_loss: 2.9681 - val_accuracy: 0.6641\n",
            "Epoch 79/100\n",
            "8/8 [==============================] - 24s 3s/step - loss: 0.1744 - accuracy: 0.9299 - val_loss: 5.0247 - val_accuracy: 0.5742\n",
            "Epoch 80/100\n",
            "8/8 [==============================] - 24s 3s/step - loss: 0.1554 - accuracy: 0.9366 - val_loss: 3.9538 - val_accuracy: 0.6172\n",
            "Epoch 81/100\n",
            "8/8 [==============================] - 24s 3s/step - loss: 0.1620 - accuracy: 0.9355 - val_loss: 2.6014 - val_accuracy: 0.6758\n",
            "Epoch 82/100\n",
            "8/8 [==============================] - 24s 3s/step - loss: 0.1686 - accuracy: 0.9333 - val_loss: 2.5523 - val_accuracy: 0.6875\n",
            "Epoch 83/100\n",
            "8/8 [==============================] - 24s 3s/step - loss: 0.1508 - accuracy: 0.9444 - val_loss: 2.7640 - val_accuracy: 0.6758\n",
            "Epoch 84/100\n",
            "8/8 [==============================] - 24s 3s/step - loss: 0.1480 - accuracy: 0.9477 - val_loss: 2.4670 - val_accuracy: 0.6992\n",
            "Epoch 85/100\n",
            "8/8 [==============================] - 24s 3s/step - loss: 0.2388 - accuracy: 0.9088 - val_loss: 2.9961 - val_accuracy: 0.6523\n",
            "Epoch 86/100\n",
            "8/8 [==============================] - 24s 3s/step - loss: 0.1274 - accuracy: 0.9566 - val_loss: 3.6124 - val_accuracy: 0.6211\n",
            "Epoch 87/100\n",
            "8/8 [==============================] - 24s 3s/step - loss: 0.1542 - accuracy: 0.9344 - val_loss: 3.0661 - val_accuracy: 0.6562\n",
            "Epoch 88/100\n",
            "8/8 [==============================] - 24s 3s/step - loss: 0.1114 - accuracy: 0.9577 - val_loss: 3.4369 - val_accuracy: 0.6406\n",
            "Epoch 89/100\n",
            "8/8 [==============================] - 24s 3s/step - loss: 0.1228 - accuracy: 0.9499 - val_loss: 2.8023 - val_accuracy: 0.6797\n",
            "Epoch 90/100\n",
            "8/8 [==============================] - 24s 3s/step - loss: 0.1591 - accuracy: 0.9355 - val_loss: 3.3252 - val_accuracy: 0.6562\n",
            "Epoch 91/100\n",
            "8/8 [==============================] - 24s 3s/step - loss: 0.1227 - accuracy: 0.9477 - val_loss: 3.6864 - val_accuracy: 0.6523\n",
            "Epoch 92/100\n",
            "8/8 [==============================] - 24s 3s/step - loss: 0.1646 - accuracy: 0.9422 - val_loss: 3.8355 - val_accuracy: 0.6250\n",
            "Epoch 93/100\n",
            "8/8 [==============================] - 24s 3s/step - loss: 0.1198 - accuracy: 0.9533 - val_loss: 3.8712 - val_accuracy: 0.6211\n",
            "Epoch 94/100\n",
            "8/8 [==============================] - 26s 3s/step - loss: 0.1224 - accuracy: 0.9531 - val_loss: 2.6417 - val_accuracy: 0.6914\n",
            "Epoch 95/100\n",
            "8/8 [==============================] - 24s 3s/step - loss: 0.1505 - accuracy: 0.9466 - val_loss: 3.2251 - val_accuracy: 0.6562\n",
            "Epoch 96/100\n",
            "8/8 [==============================] - 24s 3s/step - loss: 0.1328 - accuracy: 0.9466 - val_loss: 2.3972 - val_accuracy: 0.6992\n",
            "Epoch 97/100\n",
            "8/8 [==============================] - 24s 3s/step - loss: 0.1286 - accuracy: 0.9555 - val_loss: 3.6120 - val_accuracy: 0.6406\n",
            "Epoch 98/100\n",
            "8/8 [==============================] - 24s 3s/step - loss: 0.1562 - accuracy: 0.9388 - val_loss: 3.0206 - val_accuracy: 0.6602\n",
            "Epoch 99/100\n",
            "8/8 [==============================] - 24s 3s/step - loss: 0.1964 - accuracy: 0.9299 - val_loss: 3.0942 - val_accuracy: 0.6680\n",
            "Epoch 100/100\n",
            "8/8 [==============================] - 24s 3s/step - loss: 0.1085 - accuracy: 0.9577 - val_loss: 3.6749 - val_accuracy: 0.6445\n"
          ]
        }
      ]
    },
    {
      "cell_type": "code",
      "metadata": {
        "id": "7zNPRWOVJdOH",
        "outputId": "ff02ab9f-bd8c-4c76-9bb7-276d58482397",
        "colab": {
          "base_uri": "https://localhost:8080/",
          "height": 545
        }
      },
      "source": [
        "import matplotlib.pyplot as plt\n",
        "acc = history.history['accuracy']\n",
        "val_acc = history.history['val_accuracy']\n",
        "loss = history.history['loss']\n",
        "val_loss = history.history['val_loss']\n",
        "\n",
        "epochs = range(len(acc))\n",
        "\n",
        "plt.plot(epochs, acc, 'r', label='Training accuracy')\n",
        "plt.plot(epochs, val_acc, 'b', label='Validation accuracy')\n",
        "plt.title('Training and validation accuracy')\n",
        "\n",
        "plt.figure()\n",
        "\n",
        "plt.plot(epochs, loss, 'r', label='Training Loss')\n",
        "plt.plot(epochs, val_loss, 'b', label='Validation Loss')\n",
        "plt.title('Training and validation loss')\n",
        "plt.legend()\n",
        "\n",
        "plt.show()"
      ],
      "execution_count": 7,
      "outputs": [
        {
          "output_type": "display_data",
          "data": {
            "image/png": "[encoded data removed]",
            "text/plain": [
              "<Figure size 432x288 with 1 Axes>"
            ]
          },
          "metadata": {
            "needs_background": "light"
          }
        },
        {
          "output_type": "display_data",
          "data": {
            "image/png": "[encoded data removed]",
            "text/plain": [
              "<Figure size 432x288 with 1 Axes>"
            ]
          },
          "metadata": {
            "needs_background": "light"
          }
        }
      ]
    },
    {
      "cell_type": "code",
      "metadata": {
        "id": "pSCYKjAm9YKs"
      },
      "source": [
        ""
      ],
      "execution_count": null,
      "outputs": []
    }
  ]
}